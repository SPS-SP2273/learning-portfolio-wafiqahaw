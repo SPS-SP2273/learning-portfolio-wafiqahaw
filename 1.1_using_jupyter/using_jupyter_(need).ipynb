{
 "cells": [
  {
   "attachments": {},
   "cell_type": "markdown",
   "id": "123456",
   "metadata": {},
   "source": [
    "<div style=\"text-align:left;font-size:2em\"><span style=\"font-weight:bolder;font-size:1.25em\">SP2273 | Learning Portfolio</span><br><br><span style=\"font-weight:bold;color:darkred\">Using Jupyter (Need)</span></div>"
   ]
  },
  {
   "attachments": {},
   "cell_type": "markdown",
   "id": "79cf67a4",
   "metadata": {},
   "source": [
    "# What to expect in this chapter"
   ]
  },
  {
   "attachments": {},
   "cell_type": "markdown",
   "id": "b33c7404",
   "metadata": {},
   "source": [
    "# 1 Getting ready"
   ]
  },
  {
   "attachments": {},
   "cell_type": "markdown",
   "id": "65a63030",
   "metadata": {},
   "source": [
    "# 2 Getting started with Jupyter"
   ]
  },
  {
   "attachments": {},
   "cell_type": "markdown",
   "id": "3624bd38",
   "metadata": {},
   "source": [
    "## 2.1 It is all about running cells"
   ]
  },
  {
   "attachments": {},
   "cell_type": "markdown",
   "id": "b3326ad0",
   "metadata": {},
   "source": [
    "## 2.2 A traditional start"
   ]
  },
  {
   "cell_type": "code",
   "execution_count": 5,
   "id": "83aff39b-ff53-4e9c-a669-30654dd21342",
   "metadata": {},
   "outputs": [
    {
     "name": "stdout",
     "output_type": "stream",
     "text": [
      "Hello World\n"
     ]
    }
   ],
   "source": [
    "print('Hello World')"
   ]
  },
  {
   "cell_type": "code",
   "execution_count": 6,
   "id": "5bc33911-5c7b-4e7d-a335-99d6f5fb70b4",
   "metadata": {},
   "outputs": [
    {
     "data": {
      "text/plain": [
       "12"
      ]
     },
     "execution_count": 6,
     "metadata": {},
     "output_type": "execute_result"
    }
   ],
   "source": [
    "11+1"
   ]
  },
  {
   "attachments": {},
   "cell_type": "markdown",
   "id": "1229c325",
   "metadata": {},
   "source": [
    "# 3 All about Markdown"
   ]
  },
  {
   "attachments": {},
   "cell_type": "markdown",
   "id": "e1cb2374",
   "metadata": {},
   "source": [
    "## 3.1 Rendering Markdown cells"
   ]
  },
  {
   "cell_type": "markdown",
   "id": "892ef548-0c87-4ab1-8f2f-11d89e2ba655",
   "metadata": {},
   "source": [
    "*hahaha* is in **italics**"
   ]
  },
  {
   "attachments": {},
   "cell_type": "markdown",
   "id": "b8f7b7e0",
   "metadata": {},
   "source": [
    "## 3.2 Some basic syntax"
   ]
  },
  {
   "cell_type": "markdown",
   "id": "f5c30490-a50c-4fe2-afc5-9eeda9320623",
   "metadata": {},
   "source": [
    "The ships *hung in the sky* in much the same way that **bricks don’t.**<sup>1</sup><sub>QUOTE</sub>"
   ]
  },
  {
   "attachments": {},
   "cell_type": "markdown",
   "id": "bbf045ca",
   "metadata": {},
   "source": [
    "## 3.3 Headings"
   ]
  },
  {
   "cell_type": "markdown",
   "id": "97e67aa1-2048-4a4c-ac12-31f7fc3ea78f",
   "metadata": {},
   "source": [
    "# Heading"
   ]
  },
  {
   "cell_type": "markdown",
   "id": "5cbebe4f-8915-4d26-bb5a-d24345f33521",
   "metadata": {},
   "source": [
    "## Subheading"
   ]
  },
  {
   "attachments": {},
   "cell_type": "markdown",
   "id": "027ace8b",
   "metadata": {},
   "source": [
    "## 3.4 Displaying Code"
   ]
  },
  {
   "cell_type": "markdown",
   "id": "ae40b330-1e3f-4cfe-bd36-2b93e9cf28e3",
   "metadata": {},
   "source": [
    "```python\n",
    "print('Hello World!')\n",
    "```"
   ]
  },
  {
   "attachments": {},
   "cell_type": "markdown",
   "id": "d83f71fb",
   "metadata": {},
   "source": [
    "## 3.5 Links"
   ]
  },
  {
   "cell_type": "markdown",
   "id": "0b74dc3b-2911-4ea9-a33a-e78d6749914c",
   "metadata": {},
   "source": [
    "you can visit SPS website [here](https://sps.nus.edu.sg/sp2273/)"
   ]
  },
  {
   "attachments": {},
   "cell_type": "markdown",
   "id": "ecd1af23",
   "metadata": {},
   "source": [
    "## 3.6 Images"
   ]
  },
  {
   "cell_type": "markdown",
   "id": "d03b3024-2217-4f3a-b69a-0b3452d1dcb0",
   "metadata": {},
   "source": [
    "![](https://www.nus.edu.sg/images/default-source/identity-images/NUS_logo_full-horizontal.jpg)"
   ]
  },
  {
   "attachments": {},
   "cell_type": "markdown",
   "id": "4668bdb7",
   "metadata": {},
   "source": [
    "## 3.7 Tables"
   ]
  },
  {
   "cell_type": "markdown",
   "id": "677d61fc-a3e7-472e-96a2-1635d88c98c0",
   "metadata": {},
   "source": [
    "|   A  |   B  |  C   |\n",
    "| :--- | :--: | ---: |\n",
    "|  a1  |  b1  |  c1  |\n",
    "|  a2  |  b2  |  c2  |\n",
    "|  a3  |  b3  |  c3  |"
   ]
  },
  {
   "attachments": {},
   "cell_type": "markdown",
   "id": "0729cf70",
   "metadata": {},
   "source": [
    "## 3.8 Lists"
   ]
  },
  {
   "cell_type": "markdown",
   "id": "ac748c23-3b4e-4702-85a2-f79f46b44239",
   "metadata": {},
   "source": [
    "1. happy\n",
    "   - excited\n",
    "2. sad\n",
    "   - devastated\n",
    "3. angry\n",
    "   - furious"
   ]
  },
  {
   "attachments": {},
   "cell_type": "markdown",
   "id": "d8c93b4a",
   "metadata": {},
   "source": [
    "## 3.9 Equations"
   ]
  },
  {
   "cell_type": "markdown",
   "id": "01a7fb8f-ad5e-4979-bcec-06116d86c610",
   "metadata": {},
   "source": [
    "$\\sqrt{b^2-4ac}\\$"
   ]
  },
  {
   "cell_type": "markdown",
   "id": "2c98fdbb-e437-49df-baaf-1c3f43444475",
   "metadata": {},
   "source": [
    "$$\n",
    "x = \\dfrac{-b \\pm \\sqrt{b^2-4ac}}{2a}\n",
    "$$"
   ]
  },
  {
   "attachments": {},
   "cell_type": "markdown",
   "id": "d7ae01a2",
   "metadata": {},
   "source": [
    "## Footnotes"
   ]
  }
 ],
 "metadata": {
  "kernelspec": {
   "display_name": "Python 3 (ipykernel)",
   "language": "python",
   "name": "python3"
  },
  "language_info": {
   "codemirror_mode": {
    "name": "ipython",
    "version": 3
   },
   "file_extension": ".py",
   "mimetype": "text/x-python",
   "name": "python",
   "nbconvert_exporter": "python",
   "pygments_lexer": "ipython3",
   "version": "3.13.5"
  },
  "toc": {
   "base_numbering": 1,
   "nav_menu": {},
   "number_sections": true,
   "sideBar": true,
   "skip_h1_title": false,
   "title_cell": "Table of Contents",
   "title_sidebar": "Contents",
   "toc_cell": false,
   "toc_position": {},
   "toc_section_display": true,
   "toc_window_display": false
  },
  "vscode": {
   "interpreter": {
    "hash": "31f2aee4e71d21fbe5cf8b01ff0e069b9275f58929596ceb00d14d90e3e16cd6"
   }
  }
 },
 "nbformat": 4,
 "nbformat_minor": 5
}
