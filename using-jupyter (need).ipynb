{
 "cells": [
  {
   "cell_type": "code",
   "execution_count": null,
   "id": "081d0bc1-27ac-471c-89bd-211e25d5537d",
   "metadata": {},
   "outputs": [],
   "source": []
  }
 ],
 "metadata": {
  "kernelspec": {
   "display_name": "",
   "name": ""
  },
  "language_info": {
   "name": ""
  }
 },
 "nbformat": 4,
 "nbformat_minor": 5
}
