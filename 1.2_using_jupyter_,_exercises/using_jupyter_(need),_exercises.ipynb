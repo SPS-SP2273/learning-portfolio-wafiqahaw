{
 "cells": [
  {
   "attachments": {},
   "cell_type": "markdown",
   "id": "123456",
   "metadata": {},
   "source": [
    "<div style=\"text-align:left;font-size:2em\"><span style=\"font-weight:bolder;font-size:1.25em\">SP2273 | Learning Portfolio</span><br><br><span style=\"font-weight:bold;color:darkred\">Using Jupyter (Need), Exercises</span></div>"
   ]
  },
  {
   "cell_type": "markdown",
   "id": "bdb98d34",
   "metadata": {},
   "source": [
    "# Exercise 1"
   ]
  },
  {
   "attachments": {},
   "cell_type": "markdown",
   "id": "123456",
   "metadata": {},
   "source": [
    "## Quadratic Equations"
   ]
  },
  {
   "attachments": {},
   "cell_type": "markdown",
   "id": "123456",
   "metadata": {},
   "source": [
    "### Introduction"
   ]
  },
  {
   "cell_type": "markdown",
   "id": "123456",
   "metadata": {},
   "source": [
    "\n",
    "![](https://upload.wikimedia.org/wikipedia/commons/thumb/f/f8/Polynomialdeg2.svg/450px-Polynomialdeg2.svg.png)"
   ]
  },
  {
   "cell_type": "markdown",
   "id": "bec6d60d",
   "metadata": {},
   "source": [
    "_(Image from the [Wikipedia page on Quadratic Equations](https://en.wikipedia.org/wiki/Quadratic_equation))_"
   ]
  },
  {
   "cell_type": "markdown",
   "id": "055e6fa1",
   "metadata": {},
   "source": [
    "The general form of a quadratic equation is:\n",
    "\n",
    "$$\n",
    "ax^2 + bx + c = 0\n",
    "$$"
   ]
  },
  {
   "attachments": {},
   "cell_type": "markdown",
   "id": "123456",
   "metadata": {},
   "source": [
    "### Solutions"
   ]
  },
  {
   "cell_type": "markdown",
   "id": "4f5081cd",
   "metadata": {},
   "source": [
    "Provided $a \\ne 0$, we can use an elementary algebraic method called [completing the square](https://en.wikipedia.org/wiki/Completing_the_square) to show that a quadratic equation has the following solution:\n",
    "$$\n",
    "x = \\dfrac{-b \\pm \\sqrt{b^2-4ac}}{2a}\n",
    "$$"
   ]
  },
  {
   "attachments": {},
   "cell_type": "markdown",
   "id": "123456",
   "metadata": {},
   "source": [
    "### Discriminant"
   ]
  },
  {
   "cell_type": "markdown",
   "id": "2c40a449",
   "metadata": {},
   "source": [
    "The quantity $\\Delta = b^2 - 4ac$ is  called the discriminant of the equation and decides the nature of its solutions. The table below shows the various possibilities."
   ]
  },
  {
   "cell_type": "markdown",
   "id": "123456",
   "metadata": {},
   "source": [
    "\n",
    "**Discriminant** | **Roots** \n",
    " --- | --- \n",
    " $\\Delta = b^2 - 4ac = 0$ | A single solution of $-b/(2a)$ \n",
    " $\\Delta = b^2 - 4ac \\gt 0$ | Two distinct solutions\n",
    " $\\Delta = b^2 - 4ac \\lt 0$ | No real solutions; both are complex."
   ]
  },
  {
   "cell_type": "markdown",
   "id": "e8c0c7d8",
   "metadata": {},
   "source": [
    "# Exercise 2"
   ]
  },
  {
   "cell_type": "markdown",
   "id": "2cdc706f",
   "metadata": {},
   "source": [
    "1. A Git **repository** is a place to store codes, files and changes in the files (revision history)\n",
    "2. Git keeps track of **changes** in the files in our repository\n",
    "3. A **commit** is a snapshot or milestone of the project's current changes\n",
    "4. A **push** is used to upload local repository content to a remote repository\n",
    "5. A **pull** is used to fetch and download content from a remote repository.\n",
    "6. The difference between **GitHub** and **GitHub Desktop** is that GitHub is a web-based platform while GitHub desktop is a desktop application that provides graphical user interface (GUI)"
   ]
  },
  {
   "cell_type": "markdown",
   "id": "aba6a724",
   "metadata": {},
   "source": [
    "# Exercise 3"
   ]
  },
  {
   "cell_type": "markdown",
   "id": "f29bd1d3",
   "metadata": {},
   "source": [
    "$\\mu = \\dfrac{1}{n}\\sum_{i=1}^{n}x_i$"
   ]
  },
  {
   "cell_type": "markdown",
   "id": "e2ebd371",
   "metadata": {},
   "source": [
    "$\\sigma = \\sqrt {\\dfrac{1}{n} \\sum_{i=1}^{n}(x_i - \\mu)^2} $"
   ]
  },
  {
   "cell_type": "markdown",
   "id": "e90000a7",
   "metadata": {},
   "source": [
    "$r =  \\dfrac{\\sum_{i=1}^{n}(x_i-\\mu\\chi)(y_i-\\mu\\gamma)}{\\sqrt {\\sum_{i=1}{n}(x_i-\\mu\\chi)^2\\sum_{i=1}^{n}(y_i-\\mu\\gamma)^2}}$"
   ]
  }
 ],
 "metadata": {
  "kernelspec": {
   "display_name": "Python 3",
   "language": "python",
   "name": "python3"
  },
  "language_info": {
   "codemirror_mode": {
    "name": "ipython",
    "version": 3
   },
   "file_extension": ".py",
   "mimetype": "text/x-python",
   "name": "python",
   "nbconvert_exporter": "python",
   "pygments_lexer": "ipython3",
   "version": "3.10.6 (main, Nov 14 2022, 16:10:14) [GCC 11.3.0]"
  },
  "toc": {
   "base_numbering": 1,
   "nav_menu": {},
   "number_sections": true,
   "sideBar": true,
   "skip_h1_title": false,
   "title_cell": "Table of Contents",
   "title_sidebar": "Contents",
   "toc_cell": false,
   "toc_position": {},
   "toc_section_display": true,
   "toc_window_display": false
  },
  "vscode": {
   "interpreter": {
    "hash": "31f2aee4e71d21fbe5cf8b01ff0e069b9275f58929596ceb00d14d90e3e16cd6"
   }
  }
 },
 "nbformat": 4,
 "nbformat_minor": 5
}
