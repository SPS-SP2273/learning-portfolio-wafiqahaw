{
 "cells": [
  {
   "cell_type": "markdown",
   "id": "1ff3c20a",
   "metadata": {},
   "source": [
    "## Pratice Exercises"
   ]
  },
  {
   "cell_type": "code",
   "execution_count": 1,
   "id": "618d35ed",
   "metadata": {},
   "outputs": [],
   "source": [
    "import numpy as np"
   ]
  },
  {
   "cell_type": "markdown",
   "id": "2dc2485b",
   "metadata": {},
   "source": [
    "Use the concepts you learned in this chapter to determine the number of 1’s in the following list of numbers."
   ]
  },
  {
   "cell_type": "code",
   "execution_count": 5,
   "id": "32ef83fe",
   "metadata": {},
   "outputs": [
    {
     "name": "stdout",
     "output_type": "stream",
     "text": [
      "Number of 1s: 9\n"
     ]
    }
   ],
   "source": [
    "numbers=[45, 60, 1, 30, 96, 1, 96, 57, 16, 1,\n",
    "        99, 62, 86, 43, 42, 60, 59, 1, 1, 35,\n",
    "        83, 47, 34, 28, 68, 23, 22, 92, 1, 79,\n",
    "        1, 29, 94, 72, 46, 47, 1, 74, 32, 20,\n",
    "        8, 37, 35, 1, 89, 29, 86, 19, 43, 61]\n",
    "\n",
    "num_array = np.array(numbers)\n",
    "mask = num_array[num_array == 1]\n",
    "print(f\"Number of 1s: {len(mask)}\")\n"
   ]
  },
  {
   "cell_type": "markdown",
   "id": "2ed38cbb",
   "metadata": {},
   "source": [
    "Determine the means of \n",
    " and \n",
    ".\n",
    "Determine the standard deviations of \n",
    " and \n",
    ".\n",
    "Determine the Pearson correlation coefficient \n",
    " for the two datasets. Don’t use np.corrcoef()!\n",
    "Compare your results to np.corrcoef()."
   ]
  },
  {
   "cell_type": "code",
   "execution_count": 6,
   "id": "d318bfbe",
   "metadata": {},
   "outputs": [],
   "source": [
    "x_1 = [1, 4, 9, 16, 25, 36, 49, 64, 81, 100]\n",
    "x_2 = [1, 8, 27, 64, 125, 216, 343, 512, 729, 1000]"
   ]
  },
  {
   "cell_type": "code",
   "execution_count": 7,
   "id": "9b0cdb54",
   "metadata": {},
   "outputs": [],
   "source": [
    "arrx1 = np.array(x_1)\n",
    "arrx2 = np.array(x_2)"
   ]
  },
  {
   "cell_type": "code",
   "execution_count": 8,
   "id": "0377137e",
   "metadata": {},
   "outputs": [
    {
     "name": "stdout",
     "output_type": "stream",
     "text": [
      "38.5\n",
      "302.5\n"
     ]
    }
   ],
   "source": [
    "mean_x1 = np.mean(arrx1)\n",
    "mean_x2 = np.mean(arrx2)\n",
    "\n",
    "print(mean_x1)\n",
    "print(mean_x2)"
   ]
  },
  {
   "cell_type": "code",
   "execution_count": 9,
   "id": "f371101c",
   "metadata": {},
   "outputs": [
    {
     "name": "stdout",
     "output_type": "stream",
     "text": [
      "32.41990129534635\n",
      "326.0893282522444\n"
     ]
    }
   ],
   "source": [
    "std_x1 = np.std(arrx1)\n",
    "std_x2 = np.std(arrx2)\n",
    "\n",
    "print(std_x1)\n",
    "print(std_x2)"
   ]
  },
  {
   "cell_type": "code",
   "execution_count": null,
   "id": "aaf2c5fa",
   "metadata": {},
   "outputs": [],
   "source": []
  }
 ],
 "metadata": {
  "kernelspec": {
   "display_name": "base",
   "language": "python",
   "name": "python3"
  },
  "language_info": {
   "codemirror_mode": {
    "name": "ipython",
    "version": 3
   },
   "file_extension": ".py",
   "mimetype": "text/x-python",
   "name": "python",
   "nbconvert_exporter": "python",
   "pygments_lexer": "ipython3",
   "version": "3.13.5"
  },
  "toc": {
   "base_numbering": 1,
   "nav_menu": {},
   "number_sections": true,
   "sideBar": true,
   "skip_h1_title": false,
   "title_cell": "Table of Contents",
   "title_sidebar": "Contents",
   "toc_cell": false,
   "toc_position": {},
   "toc_section_display": true,
   "toc_window_display": false
  }
 },
 "nbformat": 4,
 "nbformat_minor": 5
}
