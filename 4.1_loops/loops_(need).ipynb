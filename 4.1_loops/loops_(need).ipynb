{
 "cells": [
  {
   "attachments": {},
   "cell_type": "markdown",
   "id": "123456",
   "metadata": {},
   "source": [
    "<div style=\"text-align:left;font-size:2em\"><span style=\"font-weight:bolder;font-size:1.25em\">SP2273 | Learning Portfolio</span><br><br><span style=\"font-weight:bold;color:darkred\">Loops (Need)</span></div>"
   ]
  },
  {
   "attachments": {},
   "cell_type": "markdown",
   "id": "123456",
   "metadata": {},
   "source": [
    "# What to expect in this chapter"
   ]
  },
  {
   "attachments": {},
   "cell_type": "markdown",
   "id": "123456",
   "metadata": {},
   "source": [
    "# 1 The for iterator"
   ]
  },
  {
   "cell_type": "code",
   "execution_count": 38,
   "id": "2bf6d0a0",
   "metadata": {},
   "outputs": [],
   "source": [
    "real_names = [\"Natasha Romanoff\",\"Tony Stark\", \"Stephen Strange\"] + [\"Peter Parker\",\"Johnny Storm\"]"
   ]
  },
  {
   "cell_type": "code",
   "execution_count": null,
   "id": "6946899c",
   "metadata": {},
   "outputs": [
    {
     "name": "stdout",
     "output_type": "stream",
     "text": [
      "Natasha Romanoff\n",
      "Tony Stark\n",
      "Stephen Strange\n"
     ]
    }
   ],
   "source": [
    "print(real_names[0])\n",
    "print(real_names[1])        #lengthy, not possible for long lists\n",
    "print(real_names[2])"
   ]
  },
  {
   "cell_type": "code",
   "execution_count": null,
   "id": "b58ba25d",
   "metadata": {},
   "outputs": [
    {
     "name": "stdout",
     "output_type": "stream",
     "text": [
      "--------------------\n",
      "1 Natasha Romanoff\n",
      "--------------------\n",
      "2 Tony Stark\n",
      "--------------------\n",
      "3 Stephen Strange\n"
     ]
    }
   ],
   "source": [
    "count = 0           #put outside of \"for name in [..]\"\n",
    "for name in real_names:\n",
    "    print('--'*10)\n",
    "    count += 1          #adds 1 to each count, needs to be in the loop to work (within tab)\n",
    "    print(count,name)"
   ]
  },
  {
   "cell_type": "code",
   "execution_count": null,
   "id": "20248b3c",
   "metadata": {},
   "outputs": [
    {
     "name": "stdout",
     "output_type": "stream",
     "text": [
      "1 Natasha Romanoff\n",
      "2 Tony Stark\n",
      "3 Stephen Strange\n"
     ]
    }
   ],
   "source": [
    "for i in [0,1,2]:           #difficult if there are a lot of names\n",
    "    print(i+1,real_names[i])"
   ]
  },
  {
   "cell_type": "code",
   "execution_count": null,
   "id": "65b63ac1",
   "metadata": {},
   "outputs": [
    {
     "name": "stdout",
     "output_type": "stream",
     "text": [
      "1 Natasha Romanoff\n",
      "2 Tony Stark\n",
      "3 Stephen Strange\n",
      "4 Peter Parker\n"
     ]
    }
   ],
   "source": [
    "for i in range(4):          #needs to be modified if new names are added to list\n",
    "    print(i+1,real_names[i])"
   ]
  },
  {
   "cell_type": "code",
   "execution_count": null,
   "id": "58ac2627",
   "metadata": {},
   "outputs": [
    {
     "name": "stdout",
     "output_type": "stream",
     "text": [
      "1 Natasha Romanoff\n",
      "2 Tony Stark\n",
      "3 Stephen Strange\n",
      "4 Peter Parker\n",
      "5 Johnny Storm\n"
     ]
    }
   ],
   "source": [
    "for i in range(len(real_names)):          #Same code works even when new names added\n",
    "    print(i+1, real_names[i])"
   ]
  },
  {
   "cell_type": "code",
   "execution_count": 41,
   "id": "f82e60e6",
   "metadata": {},
   "outputs": [
    {
     "name": "stdout",
     "output_type": "stream",
     "text": [
      "1 Black Widow is Natasha Romanoff\n",
      "2 Iron Man is Tony Stark\n",
      "3 Doctor Strange is Stephen Strange\n"
     ]
    }
   ],
   "source": [
    "super_names = [\"Black Widow\",\"Iron Man\", \"Doctor Strange\"]\n",
    "real_names = [\"Natasha Romanoff\", \"Tony Stark\", \"Stephen Strange\"]\n",
    "\n",
    "for i in range (len(real_names)):\n",
    "    print(i+1, f'{super_names[i]} is {real_names[i]}')"
   ]
  },
  {
   "attachments": {},
   "cell_type": "markdown",
   "id": "123456",
   "metadata": {},
   "source": [
    "## 1.1 for with a list"
   ]
  },
  {
   "cell_type": "code",
   "execution_count": null,
   "id": "21ae5c96",
   "metadata": {},
   "outputs": [],
   "source": [
    "real_names = [\"Natasha Romanoff\", \"Tony Stark\", \"Stephen Strange\"]"
   ]
  },
  {
   "attachments": {},
   "cell_type": "markdown",
   "id": "123456",
   "metadata": {},
   "source": [
    "## 1.2 for with enumerate"
   ]
  },
  {
   "cell_type": "code",
   "execution_count": 26,
   "id": "ac9bb35b",
   "metadata": {},
   "outputs": [
    {
     "name": "stdout",
     "output_type": "stream",
     "text": [
      "1. Romanoff ROMANOFF\n",
      "2. Stark STARK\n",
      "3. Strange STRANGE\n",
      "\n"
     ]
    }
   ],
   "source": [
    "all_names = \"\"\n",
    "for count, name in enumerate(real_names, start=1):\n",
    "    first_name, last_name =  name.split()         #Splitting the name into two and assigning them\n",
    "    all_names += f'{count}. {last_name} {last_name.upper()}\\n'\n",
    "print(all_names)   #no longer on the same tab, not under \"for count..\""
   ]
  },
  {
   "attachments": {},
   "cell_type": "markdown",
   "id": "123456",
   "metadata": {},
   "source": [
    "## 1.3 for with range"
   ]
  },
  {
   "cell_type": "code",
   "execution_count": 43,
   "id": "31c0b6f1",
   "metadata": {},
   "outputs": [
    {
     "name": "stdout",
     "output_type": "stream",
     "text": [
      "6\n",
      "8\n"
     ]
    }
   ],
   "source": [
    "for i in range (6,10,2):\n",
    "    print(i)"
   ]
  },
  {
   "cell_type": "code",
   "execution_count": 2,
   "id": "c7f5a8d7",
   "metadata": {},
   "outputs": [],
   "source": [
    "import numpy as np"
   ]
  },
  {
   "cell_type": "code",
   "execution_count": 11,
   "id": "e2e20170",
   "metadata": {},
   "outputs": [],
   "source": [
    "fruit_names = [\"Apple\",\"Kiwi\",\"Banana\"]\n",
    "fruit_colours = [\"Red\",\"Green\",\"Yellow\"]\n"
   ]
  },
  {
   "cell_type": "code",
   "execution_count": 12,
   "id": "9ed91d9a",
   "metadata": {},
   "outputs": [
    {
     "name": "stdout",
     "output_type": "stream",
     "text": [
      "Apple is Red!\n",
      "Kiwi is Green!\n",
      "Banana is Yellow!\n"
     ]
    }
   ],
   "source": [
    "for i in range(len(fruit_names)):\n",
    "    fruit = fruit_names[i]\n",
    "    colour = fruit_colours[i]\n",
    "    print(f'{fruit} is {colour}!')"
   ]
  },
  {
   "attachments": {},
   "cell_type": "markdown",
   "id": "123456",
   "metadata": {},
   "source": [
    "# 2 while"
   ]
  },
  {
   "cell_type": "code",
   "execution_count": 48,
   "id": "e2e2a179",
   "metadata": {},
   "outputs": [],
   "source": [
    "import numpy as np"
   ]
  },
  {
   "cell_type": "code",
   "execution_count": 58,
   "id": "e02da5e7",
   "metadata": {},
   "outputs": [
    {
     "name": "stdout",
     "output_type": "stream",
     "text": [
      "x*180/np.pi=57.2957795131 np.sin(x)=0.84147098 np.tan(x)=1.55740772 False\n",
      "x*180/np.pi=28.6478897565 np.sin(x)=0.47942554 np.tan(x)=0.54630249 False\n",
      "x*180/np.pi=14.3239448783 np.sin(x)=0.24740396 np.tan(x)=0.25534192 False\n",
      "x*180/np.pi=7.1619724391 np.sin(x)=0.12467473 np.tan(x)=0.12565514 False\n",
      "x*180/np.pi=3.5809862196 np.sin(x)=0.06245932 np.tan(x)=0.06258151 False\n"
     ]
    }
   ],
   "source": [
    "x=1\n",
    "for _ in range(5):\n",
    "    print(\n",
    "        f'{x*180/np.pi=:.10f}', \n",
    "        f'{np.sin(x)=:.8f}', \n",
    "        f'{np.tan(x)=:.8f}',\n",
    "        np.isclose(np.sin(x), np.tan(x))\n",
    "        )\n",
    "    x /= 2"
   ]
  }
 ],
 "metadata": {
  "kernelspec": {
   "display_name": "base",
   "language": "python",
   "name": "python3"
  },
  "language_info": {
   "codemirror_mode": {
    "name": "ipython",
    "version": 3
   },
   "file_extension": ".py",
   "mimetype": "text/x-python",
   "name": "python",
   "nbconvert_exporter": "python",
   "pygments_lexer": "ipython3",
   "version": "3.13.5"
  },
  "toc": {
   "base_numbering": 1,
   "nav_menu": {},
   "number_sections": true,
   "sideBar": true,
   "skip_h1_title": false,
   "title_cell": "Table of Contents",
   "title_sidebar": "Contents",
   "toc_cell": false,
   "toc_position": {},
   "toc_section_display": true,
   "toc_window_display": false
  }
 },
 "nbformat": 4,
 "nbformat_minor": 5
}
