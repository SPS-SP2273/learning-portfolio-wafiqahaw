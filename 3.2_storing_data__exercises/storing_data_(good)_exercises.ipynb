{
 "cells": [
  {
   "attachments": {},
   "cell_type": "markdown",
   "id": "123456",
   "metadata": {},
   "source": [
    "<div style=\"text-align:left;font-size:2em\"><span style=\"font-weight:bolder;font-size:1.25em\">SP2273 | Learning Portfolio</span><br><br><span style=\"font-weight:bold;color:darkred\">Storing Data (Good) Exercises</span></div>"
   ]
  },
  {
   "cell_type": "markdown",
   "id": "9c1c49f9",
   "metadata": {},
   "source": [
    "# Exercise 1\n",
    "Purely from memory, write short descriptions of the following terms:"
   ]
  },
  {
   "cell_type": "markdown",
   "id": "c5174243",
   "metadata": {},
   "source": [
    "| Term | Brief Description | Examples\n",
    "| :-- | :-- | :--\n",
    "| Subsetting | To select one or more elements from a list or array. | -\n",
    "| Indexing | To select a single element | `py_list[1]` selects the element at index 1 \n",
    "| Slicing | To select a range of elements | `py_list[1:5]` selects the elements from index 1 to 4\n",
    "| Masking | To differentiate between values in a list/array that are True or False | `np_array[np_array > 5]` asks if the elements are more than 5, then filters and only shows the elements that are ‘True’"
   ]
  },
  {
   "cell_type": "markdown",
   "id": "e0f7a33c",
   "metadata": {},
   "source": [
    "# Exercise 2\n",
    "Use masking to subset the letters that correspond to the odd numbers."
   ]
  },
  {
   "cell_type": "code",
   "execution_count": 2,
   "id": "850ff0ec",
   "metadata": {},
   "outputs": [],
   "source": [
    "import numpy as np"
   ]
  },
  {
   "cell_type": "code",
   "execution_count": 3,
   "id": "034f3d5e",
   "metadata": {},
   "outputs": [],
   "source": [
    "np_array_2d = np.array([[1, \"A\"], [3, \"C\"], [2, \"B\"], [4, \"D\"],\n",
    "                        [5, \"E\"], [7, \"G\"], [6, \"F\"], [8, \"H\"],\n",
    "                        [10, \"J\"], [9, \"I\"]])"
   ]
  },
  {
   "cell_type": "code",
   "execution_count": 38,
   "id": "5cf19f51",
   "metadata": {},
   "outputs": [
    {
     "name": "stdout",
     "output_type": "stream",
     "text": [
      "Odd Letters: ['A' 'C' 'E' 'G' 'I']\n"
     ]
    }
   ],
   "source": [
    "np_array_2d[:,0]                            # 1. Subset all first elements\n",
    "numbers = np_array_2d[:,0].astype(int)      # 2. Convert to integers\n",
    "numbers%2                                   # 3. Get remainder for division by 2\n",
    "mask = numbers % 2 == 1                     # 4. Create a mask that checks if the remainder is zero\n",
    "odd_letters = np_array_2d[mask,1]           # 5. Extract the corresponding Elements\n",
    "print('Odd Letters:', odd_letters)"
   ]
  },
  {
   "cell_type": "markdown",
   "id": "e98ec096",
   "metadata": {},
   "source": [
    "**Notes below (Checking if outputs are correct)**"
   ]
  },
  {
   "cell_type": "code",
   "execution_count": 46,
   "id": "ef5de901",
   "metadata": {},
   "outputs": [
    {
     "data": {
      "text/plain": [
       "array(['1', '3', '2', '4', '5', '7', '6', '8', '10', '9'], dtype='<U21')"
      ]
     },
     "execution_count": 46,
     "metadata": {},
     "output_type": "execute_result"
    }
   ],
   "source": [
    "np_array_2d[:,0]"
   ]
  },
  {
   "cell_type": "code",
   "execution_count": 40,
   "id": "06bfc8b5",
   "metadata": {},
   "outputs": [
    {
     "data": {
      "text/plain": [
       "array([ 1,  3,  2,  4,  5,  7,  6,  8, 10,  9])"
      ]
     },
     "execution_count": 40,
     "metadata": {},
     "output_type": "execute_result"
    }
   ],
   "source": [
    "np_array_2d[:,0].astype(int)"
   ]
  },
  {
   "cell_type": "code",
   "execution_count": 42,
   "id": "c3d73321",
   "metadata": {},
   "outputs": [
    {
     "data": {
      "text/plain": [
       "array([1, 1, 0, 0, 1, 1, 0, 0, 0, 1])"
      ]
     },
     "execution_count": 42,
     "metadata": {},
     "output_type": "execute_result"
    }
   ],
   "source": [
    "numbers%2"
   ]
  },
  {
   "cell_type": "code",
   "execution_count": 43,
   "id": "d1c9aa0d",
   "metadata": {},
   "outputs": [
    {
     "data": {
      "text/plain": [
       "array([ True,  True, False, False,  True,  True, False, False, False,\n",
       "        True])"
      ]
     },
     "execution_count": 43,
     "metadata": {},
     "output_type": "execute_result"
    }
   ],
   "source": [
    "numbers % 2 == 1"
   ]
  },
  {
   "cell_type": "markdown",
   "id": "f9e5a388",
   "metadata": {},
   "source": [
    "# Exercise 3"
   ]
  },
  {
   "cell_type": "code",
   "execution_count": 47,
   "id": "32f55ceb",
   "metadata": {},
   "outputs": [
    {
     "data": {
      "text/plain": [
       "[[66, 50, 57, -1, -1],\n",
       " [92, -1, 88, -1, -1],\n",
       " [75, -1, -1, 76, -1],\n",
       " [-1, 51, 87, -1, -1],\n",
       " [71, -1, 67, -1, 69]]"
      ]
     },
     "execution_count": 47,
     "metadata": {},
     "output_type": "execute_result"
    }
   ],
   "source": [
    "[[66, 50, 57, -1, -1],\n",
    " [92, -1, 88, -1, -1],\n",
    " [75, -1, -1, 76, -1],\n",
    " [-1, 51, 87, -1, -1],\n",
    " [71, -1, 67, -1, 69]]"
   ]
  },
  {
   "cell_type": "markdown",
   "id": "6a51ac0d",
   "metadata": {},
   "source": [
    "Consider the 2D array shown below. Using your knowledge of NumPy masking, change:\n",
    "\n",
    "1. values below 50 to -1,\n",
    "2. values above 50 to +1, and\n",
    "3. values equal to 50 to 0."
   ]
  },
  {
   "cell_type": "code",
   "execution_count": 5,
   "id": "28cd1890",
   "metadata": {},
   "outputs": [],
   "source": [
    "import numpy as np"
   ]
  },
  {
   "cell_type": "code",
   "execution_count": 9,
   "id": "ebf91983",
   "metadata": {},
   "outputs": [],
   "source": [
    "np_array = np.array([[66, 50, 57, -1, -1],\n",
    " [92, -1, 88, -1, -1],\n",
    " [75, -1, -1, 76, -1],\n",
    " [-1, 51, 87, -1, -1],\n",
    " [71, -1, 67, -1, 69]])"
   ]
  },
  {
   "cell_type": "code",
   "execution_count": 10,
   "id": "4bd7c47c",
   "metadata": {},
   "outputs": [
    {
     "name": "stdout",
     "output_type": "stream",
     "text": [
      "[[ 1  0  1 -1 -1]\n",
      " [ 1 -1  1 -1 -1]\n",
      " [ 1 -1 -1  1 -1]\n",
      " [-1  1  1 -1 -1]\n",
      " [ 1 -1  1 -1  1]]\n"
     ]
    }
   ],
   "source": [
    "np_array[np_array < 50] = -1          # 1. Change values below 50 to -1\n",
    "np_array[np_array > 50] = 1           # 2. Change values above 50 to +1\n",
    "np_array[np_array == 50] = 0          # 3. Change values equal to 50 to 0\n",
    "\n",
    "print(np_array)"
   ]
  }
 ],
 "metadata": {
  "kernelspec": {
   "display_name": "base",
   "language": "python",
   "name": "python3"
  },
  "language_info": {
   "codemirror_mode": {
    "name": "ipython",
    "version": 3
   },
   "file_extension": ".py",
   "mimetype": "text/x-python",
   "name": "python",
   "nbconvert_exporter": "python",
   "pygments_lexer": "ipython3",
   "version": "3.13.5"
  },
  "toc": {
   "base_numbering": 1,
   "nav_menu": {},
   "number_sections": true,
   "sideBar": true,
   "skip_h1_title": false,
   "title_cell": "Table of Contents",
   "title_sidebar": "Contents",
   "toc_cell": false,
   "toc_position": {},
   "toc_section_display": true,
   "toc_window_display": false
  }
 },
 "nbformat": 4,
 "nbformat_minor": 5
}
