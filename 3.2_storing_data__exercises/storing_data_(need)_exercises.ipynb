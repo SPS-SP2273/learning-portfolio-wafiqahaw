{
 "cells": [
  {
   "attachments": {},
   "cell_type": "markdown",
   "id": "123456",
   "metadata": {},
   "source": [
    "<div style=\"text-align:left;font-size:2em\"><span style=\"font-weight:bolder;font-size:1.25em\">SP2273 | Learning Portfolio</span><br><br><span style=\"font-weight:bold;color:darkred\">Storing Data (Need) Exercises</span></div>"
   ]
  },
  {
   "cell_type": "markdown",
   "id": "287c529f",
   "metadata": {},
   "source": [
    "# Exercise 1\n",
    "Purely from memory, jot down:\n",
    "\n",
    "1. Two similarities between lists and arrays.\n",
    "2. Two differences between lists and arrays.\n",
    "3. What is a dictionary?\n",
    "\n",
    "If you cannot recall the answers, please refer to the course notes and put this information you could not recall in italics."
   ]
  },
  {
   "cell_type": "markdown",
   "id": "c9b96283",
   "metadata": {},
   "source": [
    "1. One similarity is that the length (number of elements) can be obtained in both lists and arrays. Another similarity is that the sum, minimum and maximum of numbers can be obtained in both lists and arrays.\n",
    "2. One difference is that arrays can only have one single data type, while lists allow for more than one data type. *Another difference is that an operation on a list works on the whole list, while an operation on an array works on the individual elements of the array.*\n",
    "3. A dictionary is something that stores data, using a key to identify a value."
   ]
  },
  {
   "cell_type": "markdown",
   "id": "2226cf91",
   "metadata": {},
   "source": [
    "# Exercise 2\n",
    "Modify the following code to print out all elements with an odd number. I have done the one corresponding to i9 for you."
   ]
  },
  {
   "cell_type": "code",
   "execution_count": 8,
   "id": "e78e8f9b",
   "metadata": {},
   "outputs": [
    {
     "name": "stdout",
     "output_type": "stream",
     "text": [
      "a1\n",
      "c3\n",
      "e5\n",
      "g7\n",
      "i9\n"
     ]
    }
   ],
   "source": [
    "py_list = [\"a1\", \"b2\", \"c3\", \"d4\", \"e5\", \"f6\", \"g7\", \"h8\", \"i9\", \"j10\"]\n",
    "print(py_list[0])   # Prints 'a1'\n",
    "print(py_list[2])   # Prints 'c3'\n",
    "print(py_list[4])   # Prints 'e5'\n",
    "print(py_list[6])   # Prints 'g7'\n",
    "print(py_list[8])   # Prints 'i9'"
   ]
  },
  {
   "cell_type": "markdown",
   "id": "c8504af2",
   "metadata": {},
   "source": [
    "# Exercise 3\n",
    "Given the following list in Python:\n",
    "1. Access and print the element at index 4 using forward indexing.\n",
    "2. Access and print the element at index 4 from the end of the list using reverse indexing."
   ]
  },
  {
   "cell_type": "code",
   "execution_count": 21,
   "id": "e72a3d4a",
   "metadata": {},
   "outputs": [],
   "source": [
    "elements = ['Hydrogen',\n",
    "            'Helium', 'Lithium',\n",
    "            'Beryllium', 'Boron', 'Carbon',\n",
    "            'Nitrogen', 'Oxygen',\n",
    "            'Fluorine',\n",
    "            'Neon']"
   ]
  },
  {
   "cell_type": "code",
   "execution_count": null,
   "id": "d4ec1353",
   "metadata": {},
   "outputs": [
    {
     "data": {
      "text/plain": [
       "10"
      ]
     },
     "execution_count": 22,
     "metadata": {},
     "output_type": "execute_result"
    }
   ],
   "source": [
    "len(elements)       #to know the size for reverse indexing"
   ]
  },
  {
   "cell_type": "code",
   "execution_count": null,
   "id": "d3b2da44",
   "metadata": {},
   "outputs": [
    {
     "name": "stdout",
     "output_type": "stream",
     "text": [
      "Boron\n",
      "Boron\n"
     ]
    }
   ],
   "source": [
    "print(elements[4])      #forward indexing\n",
    "print(elements[-6])     #reverse indexing"
   ]
  },
  {
   "cell_type": "markdown",
   "id": "b7fa8caa",
   "metadata": {},
   "source": [
    "# Exercise 4\n",
    "Use the concepts you learned in this chapter to determine the number of 1’s in the following list of numbers."
   ]
  },
  {
   "cell_type": "code",
   "execution_count": 3,
   "id": "dc1dd8b9",
   "metadata": {},
   "outputs": [],
   "source": [
    "numbers=[45, 60, 1, 30, 96, 1, 96, 57, 16, 1,\n",
    "        99, 62, 86, 43, 42, 60, 59, 1, 1, 35,\n",
    "        83, 47, 34, 28, 68, 23, 22, 92, 1, 79,\n",
    "        1, 29, 94, 72, 46, 47, 1, 74, 32, 20,\n",
    "        8, 37, 35, 1, 89, 29, 86, 19, 43, 61]                  "
   ]
  },
  {
   "cell_type": "code",
   "execution_count": 26,
   "id": "329e57e4",
   "metadata": {},
   "outputs": [],
   "source": [
    "import numpy as np"
   ]
  },
  {
   "cell_type": "code",
   "execution_count": 68,
   "id": "e163b54c",
   "metadata": {},
   "outputs": [
    {
     "name": "stdout",
     "output_type": "stream",
     "text": [
      "Number of 1's in the list = 9\n"
     ]
    }
   ],
   "source": [
    "numbers = np.array(numbers)         # Converting list to array\n",
    "\n",
    "n = numbers == 1\n",
    "\n",
    "print(\"Number of 1's in the list =\", sum(n))"
   ]
  },
  {
   "cell_type": "markdown",
   "id": "4bd8becf",
   "metadata": {},
   "source": [
    "# Exercise 5\n",
    "Using NumPy:\n",
    "\n",
    "1. Determine the means of $x_1$ and $x_2$.\n",
    "2. Determine the standard deviations of $x_1$ and $x_2$.\n",
    "3. Determine the Pearson correlation coefficient $r$ for the two datasets. Don’t use np.corrcoef()!\n",
    "4. Compare your results to np.corrcoef()."
   ]
  },
  {
   "cell_type": "code",
   "execution_count": 4,
   "id": "a7b70d28",
   "metadata": {},
   "outputs": [],
   "source": [
    "x_1 = [1, 4, 9, 16, 25, 36, 49, 64, 81, 100]\n",
    "x_2 = [1, 8, 27, 64, 125, 216, 343, 512, 729, 1000]"
   ]
  },
  {
   "cell_type": "code",
   "execution_count": 39,
   "id": "74e5b10a",
   "metadata": {},
   "outputs": [],
   "source": [
    "# Converting python lists to numpy arrays\n",
    "x_1 = np.array([x_1])\n",
    "x_2 = np.array ([x_2])"
   ]
  },
  {
   "cell_type": "code",
   "execution_count": 54,
   "id": "21670272",
   "metadata": {},
   "outputs": [
    {
     "name": "stdout",
     "output_type": "stream",
     "text": [
      "mean of x_1 = 38.5\n",
      "mean of x_2 = 302.5\n"
     ]
    }
   ],
   "source": [
    "# Task 1: Determining means of x1 and x2\n",
    "\n",
    "mean_x1 = x_1.mean()\n",
    "mean_x2 = x_2.mean()\n",
    "\n",
    "print(\"mean of x_1 =\", mean_x1)\n",
    "print(\"mean of x_2 =\", mean_x2)"
   ]
  },
  {
   "cell_type": "code",
   "execution_count": 55,
   "id": "8c25ac21",
   "metadata": {},
   "outputs": [
    {
     "name": "stdout",
     "output_type": "stream",
     "text": [
      "standard deviation of x_1 = 32.41990129534635\n",
      "standard deviation of x_2 = 326.0893282522444\n"
     ]
    }
   ],
   "source": [
    "# Task 2: Determining std devs of x1 and x2\n",
    "\n",
    "std_x1 = x_1.std()\n",
    "std_x2 = x_2.std()\n",
    "\n",
    "print(\"standard deviation of x_1 =\", std_x1)\n",
    "print(\"standard deviation of x_2 =\", std_x2)"
   ]
  },
  {
   "cell_type": "code",
   "execution_count": null,
   "id": "48613cff",
   "metadata": {},
   "outputs": [
    {
     "name": "stdout",
     "output_type": "stream",
     "text": [
      "Pearson Correlation coefficient r = 0.9871796626270701\n"
     ]
    }
   ],
   "source": [
    "# Task 3: Determining Pearson correlation coefficient, Using formula\n",
    "\n",
    "num = np.sum((x_1-mean_x1) * (x_2-mean_x2))        # numerator in r formula\n",
    "den = np.sqrt(np.sum((x_1-mean_x1)**2) * np.sum((x_2-mean_x2)**2))     # denominator in r formula\n",
    "\n",
    "r = num / den \n",
    "\n",
    "print(\"Pearson Correlation coefficient r =\", r)"
   ]
  },
  {
   "cell_type": "code",
   "execution_count": null,
   "id": "0314b8ce",
   "metadata": {},
   "outputs": [
    {
     "name": "stdout",
     "output_type": "stream",
     "text": [
      "[[1.         0.98717966]\n",
      " [0.98717966 1.        ]]\n"
     ]
    }
   ],
   "source": [
    "# Task 4: Comparing with np.corrcoef()\n",
    "r = np.corrcoef(x_1, x_2)\n",
    "print(r)"
   ]
  },
  {
   "cell_type": "markdown",
   "id": "d48b6172",
   "metadata": {},
   "source": [
    "Based on the Pearson correlation coefficient ($r$) in task 3 and 4, the values are similar. However, task 3 provides a more accurate value, while task 4 provides a rounded up value."
   ]
  }
 ],
 "metadata": {
  "kernelspec": {
   "display_name": "base",
   "language": "python",
   "name": "python3"
  },
  "language_info": {
   "codemirror_mode": {
    "name": "ipython",
    "version": 3
   },
   "file_extension": ".py",
   "mimetype": "text/x-python",
   "name": "python",
   "nbconvert_exporter": "python",
   "pygments_lexer": "ipython3",
   "version": "3.13.5"
  },
  "toc": {
   "base_numbering": 1,
   "nav_menu": {},
   "number_sections": true,
   "sideBar": true,
   "skip_h1_title": false,
   "title_cell": "Table of Contents",
   "title_sidebar": "Contents",
   "toc_cell": false,
   "toc_position": {},
   "toc_section_display": true,
   "toc_window_display": false
  }
 },
 "nbformat": 4,
 "nbformat_minor": 5
}
