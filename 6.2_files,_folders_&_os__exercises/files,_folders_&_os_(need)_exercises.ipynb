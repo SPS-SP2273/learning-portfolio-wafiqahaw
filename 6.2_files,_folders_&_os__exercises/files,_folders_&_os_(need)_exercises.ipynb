{
 "cells": [
  {
   "attachments": {},
   "cell_type": "markdown",
   "id": "123456",
   "metadata": {},
   "source": [
    "<div style=\"text-align:left;font-size:2em\"><span style=\"font-weight:bolder;font-size:1.25em\">SP2273 | Learning Portfolio</span><br><br><span style=\"font-weight:bold;color:darkred\">Files, Folders & OS (Need) Exercises</span></div>"
   ]
  },
  {
   "cell_type": "markdown",
   "id": "a8c2a375",
   "metadata": {},
   "source": [
    "# Scenario\n",
    "You are a member of an international team analysing environmental pollution. The project involves ten cities: Cairo, Dhaka, Jakarta, Karachi, Manila, Melbourne, Osaka, Shanghai, Singapore, and Tokyo.\n",
    "\n",
    "Your task is to process and organise data from various environmental measurements. The provided zip file, os-collaboration-exercise-data.zip, contains all relevant data files for the past year."
   ]
  },
  {
   "cell_type": "code",
   "execution_count": 1,
   "id": "7efc719d",
   "metadata": {},
   "outputs": [],
   "source": [
    "import os\n",
    "import glob\n",
    "import shutil"
   ]
  },
  {
   "cell_type": "markdown",
   "id": "47e0fc20",
   "metadata": {},
   "source": [
    "## Task 1\n",
    "Using the following dictionary (or otherwise), write a snippet of Python code to convert 'oct-08_singapore.txt' to 10-08-singapore.txt. "
   ]
  },
  {
   "cell_type": "code",
   "execution_count": 145,
   "id": "4919c817",
   "metadata": {},
   "outputs": [
    {
     "name": "stdout",
     "output_type": "stream",
     "text": [
      "old filename: oct-08_singapore.txt\n",
      "split extension: oct-08_singapore  txt\n",
      "split month from others: oct  08_singapore\n",
      "split date and city: 08  singapore\n",
      "convert month name: 10\n",
      "new filename: 10-08-singapore.txt\n"
     ]
    }
   ],
   "source": [
    "month_info = {\n",
    "'jan': '01', 'feb': '02', 'mar': '03',\n",
    "'apr': '04', 'may': '05', 'jun': '06',\n",
    "'jul': '07', 'aug': '08', 'sep': '09',\n",
    "'oct': '10', 'nov': '11', 'dec': '12'\n",
    "}\n",
    "\n",
    "old_filename = \"oct-08_singapore.txt\"\n",
    "print(\"old filename:\", old_filename)\n",
    "\n",
    "# splitting each part of the name\n",
    "name,ext = old_filename.split('.')      # splits extension from the name\n",
    "print(f\"split extension: {name}  {ext}\")     # print for checking                \n",
    "\n",
    "month, others = name.split('-')         # split month from the rest of the file name\n",
    "print(f\"split month from others: {month}  {others}\")                \n",
    "\n",
    "date, city = others.split('_')          # split date and city\n",
    "print (f\"split date and city: {date}  {city}\")                 \n",
    "\n",
    "month_number = month_info[month]        # Converting 'Oct' to '10'\n",
    "print(f\"convert month name: {month_number}\")                        \n",
    "\n",
    "new_filename = f\"{month_number}-{date}-{city}.{ext}\"\n",
    "print (f\"new filename: {new_filename}\")\n"
   ]
  },
  {
   "cell_type": "markdown",
   "id": "b45e87af",
   "metadata": {},
   "source": [
    "## Task 2\n",
    "Incorporate your previous code into a function named rename_my_file(old_file_name) that accepts the old filename as the argument and returns the new file name."
   ]
  },
  {
   "cell_type": "code",
   "execution_count": 103,
   "id": "ee392f90",
   "metadata": {},
   "outputs": [],
   "source": [
    "def rename_my_file(old_file_name):\n",
    "    name, ext = old_file_name.split('.')\n",
    "    month, others = name.rsplit('-')\n",
    "    date, city = others.split('_')\n",
    "    month_number = month_info[month]\n",
    "    new_file_name = f\"{month_number}-{date}-{city}.{ext}\"\n",
    "    return new_file_name"
   ]
  },
  {
   "cell_type": "code",
   "execution_count": 102,
   "id": "b922d328",
   "metadata": {},
   "outputs": [
    {
     "data": {
      "text/plain": [
       "'04-01-melbourne.txt'"
      ]
     },
     "execution_count": 102,
     "metadata": {},
     "output_type": "execute_result"
    }
   ],
   "source": [
    "rename_my_file(\"apr-01_melbourne.txt\")"
   ]
  },
  {
   "cell_type": "markdown",
   "id": "9a0a2e5d",
   "metadata": {},
   "source": [
    "## Task 3\n",
    "Use a for loop to apply the function rename_my_file() to the file list below."
   ]
  },
  {
   "cell_type": "code",
   "execution_count": 138,
   "id": "f53f9956",
   "metadata": {},
   "outputs": [
    {
     "name": "stdout",
     "output_type": "stream",
     "text": [
      "oct-08_singapore.txt ---> 10-08-singapore.txt\n",
      "jul-10_cairo.txt ---> 07-10-cairo.txt\n",
      "may-15_dhaka.txt ---> 05-15-dhaka.txt\n",
      "may-13_cairo.txt ---> 05-13-cairo.txt\n",
      "oct-21_cairo.txt ---> 10-21-cairo.txt\n",
      "jan-10_singapore.txt ---> 01-10-singapore.txt\n",
      "jun-20_tokyo.txt ---> 06-20-tokyo.txt\n",
      "aug-06_jakarta.txt ---> 08-06-jakarta.txt\n",
      "dec-21_karachi.txt ---> 12-21-karachi.txt\n",
      "jan-01_tokyo.txt ---> 01-01-tokyo.txt\n"
     ]
    }
   ],
   "source": [
    "old_filename_list = ['oct-08_singapore.txt', 'jul-10_cairo.txt', 'may-15_dhaka.txt',\n",
    " 'may-13_cairo.txt', 'oct-21_cairo.txt', 'jan-10_singapore.txt',\n",
    " 'jun-20_tokyo.txt', 'aug-06_jakarta.txt', 'dec-21_karachi.txt',\n",
    " 'jan-01_tokyo.txt']\n",
    "\n",
    "for old_filenames in old_filename_list:\n",
    "    new_filenames = rename_my_file(old_filenames)\n",
    "    print(f\"{old_filenames} ---> {new_filenames}\")"
   ]
  },
  {
   "cell_type": "markdown",
   "id": "55ee8cfe",
   "metadata": {},
   "source": [
    "## Task 4\n",
    "With the help of glob, use rename_my_file() to rename all the .txt files in the folder."
   ]
  },
  {
   "cell_type": "code",
   "execution_count": null,
   "id": "3228c128",
   "metadata": {},
   "outputs": [],
   "source": [
    "# Updating rename_my_file function from Task 2\n",
    "\n",
    "def rename_my_file(old_file_name):\n",
    "   directory, filename = os.path.split(old_file_name)    # Splits directory from file\n",
    "   \n",
    "   if filename[0].isdigit():         # Skips if file name is already mm-dd-city format\n",
    "      return old_file_name\n",
    "   else:\n",
    "      name, ext = filename.split('.')\n",
    "      month, others = name.rsplit('-')\n",
    "      date, city = others.split('_')\n",
    "      month_number = month_info[month]\n",
    "      file_rename = f\"{month_number}-{date}-{city}.{ext}\"\n",
    "      new_file_name = os.path.join(directory,file_rename)\n",
    "      return new_file_name"
   ]
  },
  {
   "cell_type": "code",
   "execution_count": 149,
   "id": "60355940",
   "metadata": {},
   "outputs": [],
   "source": [
    "osdata_folder = glob.glob('os-collaboration-exercise-data/**.txt')\n",
    "for old_osdata_names in osdata_folder:\n",
    "    new_osdata_names = rename_my_file(old_osdata_names)\n",
    "    os.rename(old_osdata_names,new_osdata_names)"
   ]
  },
  {
   "cell_type": "markdown",
   "id": "3058f792",
   "metadata": {},
   "source": [
    "## Task 5\n",
    "Use a for loop to create a folder for each city."
   ]
  },
  {
   "cell_type": "code",
   "execution_count": 2,
   "id": "37b30e43",
   "metadata": {},
   "outputs": [
    {
     "name": "stdout",
     "output_type": "stream",
     "text": [
      "City Folders\\Cairo created\n",
      "City Folders\\Dhaka created\n",
      "City Folders\\Jakarta created\n",
      "City Folders\\Karachi created\n",
      "City Folders\\Manila created\n",
      "City Folders\\Melbourne created\n",
      "City Folders\\Osaka created\n",
      "City Folders\\Shanghai created\n",
      "City Folders\\Singapore created\n",
      "City Folders\\Tokyo created\n"
     ]
    }
   ],
   "source": [
    "city_list = ['Cairo', 'Dhaka', 'Jakarta', 'Karachi', 'Manila',\n",
    " 'Melbourne', 'Osaka', 'Shanghai', 'Singapore', 'Tokyo']\n",
    "\n",
    "if os.path.exists('City Folders'):              # To store all my folders in one main folder\n",
    "    print(f'City Folders already exists')\n",
    "else:\n",
    "    os.mkdir('City Folders')\n",
    "\n",
    "for city_name in city_list:\n",
    "    city_folders = os.path.join('City Folders',city_name)\n",
    "    if os.path.exists(city_folders):\n",
    "        print(f'{city_folders} already exists.')\n",
    "    else:\n",
    "        print(f'{city_folders} created')        \n",
    "        os.mkdir(city_folders)"
   ]
  },
  {
   "cell_type": "markdown",
   "id": "be264002",
   "metadata": {},
   "source": [
    "## Task 6\n",
    "Use glob to list all the files from Cairo.\n",
    "Now use a for loop and shutil.copy() to copy all the files related to Cairo to the corresponding folder you created."
   ]
  },
  {
   "cell_type": "code",
   "execution_count": 3,
   "id": "608baea4",
   "metadata": {},
   "outputs": [
    {
     "name": "stdout",
     "output_type": "stream",
     "text": [
      "City Folders\\Cairo\n"
     ]
    }
   ],
   "source": [
    "cairo_file_list = glob.glob('os-collaboration-exercise-data/*cairo*')\n",
    "path_to_cairo = os.path.join('City Folders','Cairo')\n",
    "print(path_to_cairo)\n",
    "\n",
    "for cairo_file in cairo_file_list:\n",
    "    shutil.copy(cairo_file,path_to_cairo)"
   ]
  },
  {
   "cell_type": "markdown",
   "id": "422b1958",
   "metadata": {},
   "source": [
    "## Task 7\n",
    "Tweak your code to move all the files to the corresponding folders of all the cities."
   ]
  },
  {
   "cell_type": "code",
   "execution_count": 4,
   "id": "6894eeea",
   "metadata": {},
   "outputs": [],
   "source": [
    "for city_name in city_list:            # Re-using list from Task 5\n",
    "    city_file_list = glob.glob(f'os-collaboration-exercise-data/*{city_name}*')\n",
    "    path_to_city = os.path.join('City Folders',city_name)\n",
    "\n",
    "    for city_file in city_file_list:\n",
    "        shutil.copy(city_file,path_to_city)"
   ]
  }
 ],
 "metadata": {
  "kernelspec": {
   "display_name": "base",
   "language": "python",
   "name": "python3"
  },
  "language_info": {
   "codemirror_mode": {
    "name": "ipython",
    "version": 3
   },
   "file_extension": ".py",
   "mimetype": "text/x-python",
   "name": "python",
   "nbconvert_exporter": "python",
   "pygments_lexer": "ipython3",
   "version": "3.13.5"
  },
  "toc": {
   "base_numbering": 1,
   "nav_menu": {},
   "number_sections": true,
   "sideBar": true,
   "skip_h1_title": false,
   "title_cell": "Table of Contents",
   "title_sidebar": "Contents",
   "toc_cell": false,
   "toc_position": {},
   "toc_section_display": true,
   "toc_window_display": false
  }
 },
 "nbformat": 4,
 "nbformat_minor": 5
}
