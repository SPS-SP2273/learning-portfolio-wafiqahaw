{
 "cells": [
  {
   "attachments": {},
   "cell_type": "markdown",
   "id": "123456",
   "metadata": {},
   "source": [
    "<div style=\"text-align:left;font-size:2em\"><span style=\"font-weight:bolder;font-size:1.25em\">SP2273 | Learning Portfolio</span><br><br><span style=\"font-weight:bold;color:darkred\">Fundamentals (Need)</span></div>"
   ]
  },
  {
   "attachments": {},
   "cell_type": "markdown",
   "id": "d47c437d",
   "metadata": {},
   "source": [
    "# What to expect in this chapter"
   ]
  },
  {
   "attachments": {},
   "cell_type": "markdown",
   "id": "dcf32513",
   "metadata": {},
   "source": [
    "# 1 Functions"
   ]
  },
  {
   "cell_type": "code",
   "execution_count": 3,
   "id": "658e5734-ce9b-4268-83cc-78fd2b2c60f7",
   "metadata": {},
   "outputs": [
    {
     "name": "stdout",
     "output_type": "stream",
     "text": [
      "Hello World!\n"
     ]
    }
   ],
   "source": [
    "print('Hello World!')"
   ]
  },
  {
   "cell_type": "code",
   "execution_count": 6,
   "id": "92cd1727-cad6-4d06-aa78-559624257624",
   "metadata": {},
   "outputs": [
    {
     "name": "stdout",
     "output_type": "stream",
     "text": [
      "Hello World!---Hahhaha---Hmmmm\n"
     ]
    }
   ],
   "source": [
    "print('Hello World!','Hahhaha','Hmmmm', sep='---')"
   ]
  },
  {
   "attachments": {},
   "cell_type": "markdown",
   "id": "0dc6c2a5",
   "metadata": {},
   "source": [
    "# 2 Python is interpreted"
   ]
  },
  {
   "cell_type": "code",
   "execution_count": 10,
   "id": "733b5537-0039-49a4-8c8a-510632a6c3a5",
   "metadata": {},
   "outputs": [
    {
     "name": "stdout",
     "output_type": "stream",
     "text": [
      "I am here\n",
      "I am here\n"
     ]
    },
    {
     "ename": "NameError",
     "evalue": "name 'y' is not defined",
     "output_type": "error",
     "traceback": [
      "\u001b[31m---------------------------------------------------------------------------\u001b[39m",
      "\u001b[31mNameError\u001b[39m                                 Traceback (most recent call last)",
      "\u001b[36mCell\u001b[39m\u001b[36m \u001b[39m\u001b[32mIn[10]\u001b[39m\u001b[32m, line 3\u001b[39m\n\u001b[32m      1\u001b[39m \u001b[38;5;28mprint\u001b[39m(\u001b[33m'\u001b[39m\u001b[33mI am here\u001b[39m\u001b[33m'\u001b[39m)\n\u001b[32m      2\u001b[39m \u001b[38;5;28mprint\u001b[39m(\u001b[33m'\u001b[39m\u001b[33mI am here\u001b[39m\u001b[33m'\u001b[39m)\n\u001b[32m----> \u001b[39m\u001b[32m3\u001b[39m x = \u001b[43my\u001b[49m + \u001b[32m1\u001b[39m \n\u001b[32m      4\u001b[39m \u001b[38;5;28mprint\u001b[39m(\u001b[33m'\u001b[39m\u001b[33mI am here\u001b[39m\u001b[33m'\u001b[39m)\n\u001b[32m      5\u001b[39m \u001b[38;5;28mprint\u001b[39m(\u001b[33m'\u001b[39m\u001b[33mI am here\u001b[39m\u001b[33m'\u001b[39m)\n",
      "\u001b[31mNameError\u001b[39m: name 'y' is not defined"
     ]
    }
   ],
   "source": [
    "print('I am here')\n",
    "print('I am here')\n",
    "x = y + 1 \n",
    "print('I am here')\n",
    "print('I am here')"
   ]
  },
  {
   "attachments": {},
   "cell_type": "markdown",
   "id": "ec3c8845",
   "metadata": {},
   "source": [
    "# 3 Python is sensitive."
   ]
  },
  {
   "cell_type": "code",
   "execution_count": 12,
   "id": "1f9dec56-bb2b-44f8-bf45-06ee18f96188",
   "metadata": {},
   "outputs": [
    {
     "name": "stdout",
     "output_type": "stream",
     "text": [
      "Hello World\n",
      "Hello World\n"
     ]
    }
   ],
   "source": [
    "print('Hello World')\n",
    "print('Hello World')"
   ]
  },
  {
   "attachments": {},
   "cell_type": "markdown",
   "id": "6db1506b",
   "metadata": {},
   "source": [
    "# 4 Comments"
   ]
  },
  {
   "cell_type": "code",
   "execution_count": 18,
   "id": "8fc5c87d-8ef3-4a6b-a511-40ad7ebf793f",
   "metadata": {},
   "outputs": [],
   "source": [
    "mass = 10    # x is the mass\n",
    "height = 20    # y is the height\n",
    "bmi = mass/height**2  # indicates obesity of the person"
   ]
  },
  {
   "cell_type": "code",
   "execution_count": 19,
   "id": "2ecd93a2-684e-4345-86b4-90705f4f14cb",
   "metadata": {},
   "outputs": [
    {
     "data": {
      "text/plain": [
       "'\\nThis is a \\nmultiline\\nthingy\\n'"
      ]
     },
     "execution_count": 19,
     "metadata": {},
     "output_type": "execute_result"
    }
   ],
   "source": [
    "'''\n",
    "This is a \n",
    "multiline\n",
    "thingy\n",
    "'''"
   ]
  },
  {
   "attachments": {},
   "cell_type": "markdown",
   "id": "002bf258",
   "metadata": {},
   "source": [
    "# 5 = is not the same as =="
   ]
  },
  {
   "cell_type": "code",
   "execution_count": 20,
   "id": "044786cd-7c32-4c01-ad11-4dbdd4351000",
   "metadata": {},
   "outputs": [],
   "source": [
    "name = 'Batman'"
   ]
  },
  {
   "cell_type": "code",
   "execution_count": 21,
   "id": "549cde5b-3152-4346-94fb-8302f8bcb9eb",
   "metadata": {},
   "outputs": [
    {
     "data": {
      "text/plain": [
       "True"
      ]
     },
     "execution_count": 21,
     "metadata": {},
     "output_type": "execute_result"
    }
   ],
   "source": [
    "name == 'Batman'"
   ]
  },
  {
   "cell_type": "code",
   "execution_count": 22,
   "id": "5636426b-60d6-4ffd-8b09-d11fd46639a5",
   "metadata": {},
   "outputs": [
    {
     "data": {
      "text/plain": [
       "False"
      ]
     },
     "execution_count": 22,
     "metadata": {},
     "output_type": "execute_result"
    }
   ],
   "source": [
    "name == 'Robin'"
   ]
  },
  {
   "attachments": {},
   "cell_type": "markdown",
   "id": "a4115255",
   "metadata": {},
   "source": [
    "# 6 Use if to make decisions"
   ]
  },
  {
   "cell_type": "code",
   "execution_count": 30,
   "id": "6e2e2758-e83f-4f5d-8806-8ffb0533ca1c",
   "metadata": {},
   "outputs": [
    {
     "name": "stdout",
     "output_type": "stream",
     "text": [
      "Boooo!\n"
     ]
    }
   ],
   "source": [
    "Name = 'Robin'\n",
    "if name == 'Batman':\n",
    "    print ('You are cool!')\n",
    "    # Things we do when true\n",
    "else:\n",
    "    print ('Boooo!')\n",
    "    # Things we do when false"
   ]
  },
  {
   "attachments": {},
   "cell_type": "markdown",
   "id": "123052b4",
   "metadata": {},
   "source": [
    "# 7 Indentations (spaces) are sooo IMPORTANT!"
   ]
  },
  {
   "cell_type": "code",
   "execution_count": 31,
   "id": "946ad22f-7460-401b-9170-b5ef7bf00c01",
   "metadata": {},
   "outputs": [
    {
     "name": "stdout",
     "output_type": "stream",
     "text": [
      "10\n"
     ]
    }
   ],
   "source": [
    "x = 10\n",
    "print (x)"
   ]
  },
  {
   "attachments": {},
   "cell_type": "markdown",
   "id": "76db3131",
   "metadata": {},
   "source": [
    "# 8 ‘age’ is English, age is a variable."
   ]
  },
  {
   "cell_type": "code",
   "execution_count": 40,
   "id": "53e964ac-e3d0-4f51-aaf6-73e526fd8bdb",
   "metadata": {},
   "outputs": [
    {
     "name": "stdout",
     "output_type": "stream",
     "text": [
      "age 10\n",
      "age 10\n",
      "'age' 10\n",
      "\"age\" 10\n"
     ]
    }
   ],
   "source": [
    "age = 10 # Assigning value to a variable\n",
    "print ('age', age)\n",
    "print ('age', age)\n",
    "print (\"'age'\", age)\n",
    "print ('\"age\"', age) #' and \" can be used interchangeably"
   ]
  },
  {
   "attachments": {},
   "cell_type": "markdown",
   "id": "ac8e29db",
   "metadata": {},
   "source": [
    "# 9 Brackets"
   ]
  },
  {
   "cell_type": "code",
   "execution_count": 41,
   "id": "c3f79f08-62de-4247-9df1-067488616262",
   "metadata": {},
   "outputs": [
    {
     "data": {
      "text/plain": [
       "15"
      ]
     },
     "execution_count": 41,
     "metadata": {},
     "output_type": "execute_result"
    }
   ],
   "source": [
    "(1+2)*5"
   ]
  },
  {
   "cell_type": "code",
   "execution_count": 47,
   "id": "6542c97c-c65e-4d25-b3ff-ca3ea8b94f9d",
   "metadata": {},
   "outputs": [],
   "source": [
    "py_list = [1,2,3,4,5]\n",
    "py_list_2 = [\n",
    "    [1, \"A\"],\n",
    "    [2, \"B\"],\n",
    "    [3, \"C\"]\n",
    "]"
   ]
  },
  {
   "attachments": {},
   "cell_type": "markdown",
   "id": "2939d578",
   "metadata": {},
   "source": [
    "# 10 Giving Python superpowers with Packages"
   ]
  },
  {
   "attachments": {},
   "cell_type": "markdown",
   "id": "34de53dc",
   "metadata": {},
   "source": [
    "## 10.1 Some Context"
   ]
  },
  {
   "cell_type": "code",
   "execution_count": 55,
   "id": "5f773fab-8826-4898-a186-f94396c3fb06",
   "metadata": {},
   "outputs": [],
   "source": [
    "import math\n",
    "import numpy as np"
   ]
  },
  {
   "cell_type": "code",
   "execution_count": 50,
   "id": "7d870fb2-ac92-4b5b-8e4e-c9c1ff2724cd",
   "metadata": {},
   "outputs": [
    {
     "data": {
      "text/plain": [
       "2.0"
      ]
     },
     "execution_count": 50,
     "metadata": {},
     "output_type": "execute_result"
    }
   ],
   "source": [
    "math.sqrt (4)"
   ]
  },
  {
   "cell_type": "code",
   "execution_count": 56,
   "id": "835b7e22-be31-49a6-8ac9-10aae4e2e450",
   "metadata": {},
   "outputs": [
    {
     "data": {
      "text/plain": [
       "array([2., 3., 4.])"
      ]
     },
     "execution_count": 56,
     "metadata": {},
     "output_type": "execute_result"
    }
   ],
   "source": [
    "np.sqrt([4,9,16])"
   ]
  },
  {
   "attachments": {},
   "cell_type": "markdown",
   "id": "633a60f6",
   "metadata": {},
   "source": [
    "## 10.2 Importing the math package"
   ]
  },
  {
   "attachments": {},
   "cell_type": "markdown",
   "id": "509ccc15",
   "metadata": {},
   "source": [
    "## 10.3 Importing the numpy package"
   ]
  },
  {
   "attachments": {},
   "cell_type": "markdown",
   "id": "62c27c1b",
   "metadata": {},
   "source": [
    "## 10.4 Why so many packages?"
   ]
  },
  {
   "attachments": {},
   "cell_type": "markdown",
   "id": "298a019b",
   "metadata": {},
   "source": [
    "# 11 The dot (.)"
   ]
  },
  {
   "attachments": {},
   "cell_type": "markdown",
   "id": "8939619f",
   "metadata": {},
   "source": [
    "## Footnotes"
   ]
  }
 ],
 "metadata": {
  "kernelspec": {
   "display_name": "Python 3 (ipykernel)",
   "language": "python",
   "name": "python3"
  },
  "language_info": {
   "codemirror_mode": {
    "name": "ipython",
    "version": 3
   },
   "file_extension": ".py",
   "mimetype": "text/x-python",
   "name": "python",
   "nbconvert_exporter": "python",
   "pygments_lexer": "ipython3",
   "version": "3.13.5"
  },
  "toc": {
   "base_numbering": 1,
   "nav_menu": {},
   "number_sections": true,
   "sideBar": true,
   "skip_h1_title": false,
   "title_cell": "Table of Contents",
   "title_sidebar": "Contents",
   "toc_cell": false,
   "toc_position": {},
   "toc_section_display": true,
   "toc_window_display": false
  },
  "vscode": {
   "interpreter": {
    "hash": "31f2aee4e71d21fbe5cf8b01ff0e069b9275f58929596ceb00d14d90e3e16cd6"
   }
  }
 },
 "nbformat": 4,
 "nbformat_minor": 5
}
