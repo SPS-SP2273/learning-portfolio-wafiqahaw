{
 "cells": [
  {
   "attachments": {},
   "cell_type": "markdown",
   "id": "123456",
   "metadata": {},
   "source": [
    "<div style=\"text-align:left;font-size:2em\"><span style=\"font-weight:bolder;font-size:1.25em\">SP2273 | Learning Portfolio</span><br><br><span style=\"font-weight:bold;color:darkred\">Loops (Good) Exercises</span></div>"
   ]
  },
  {
   "cell_type": "markdown",
   "id": "7d7defc6",
   "metadata": {},
   "source": [
    "# Exercise 1\n",
    "With your knowledge of growing lists, use a for loop with range() and continue to generate a list of the squares of the odd integers from 0 to 9."
   ]
  },
  {
   "cell_type": "code",
   "execution_count": 12,
   "id": "4874bf38",
   "metadata": {},
   "outputs": [
    {
     "name": "stdout",
     "output_type": "stream",
     "text": [
      "1\n",
      "9\n",
      "25\n",
      "49\n",
      "81\n"
     ]
    }
   ],
   "source": [
    "for number in range(10):\n",
    "    if number % 2 == 0: continue        # Removing even numbers\n",
    "    squared = number ** 2          \n",
    "    print(squared)"
   ]
  },
  {
   "cell_type": "markdown",
   "id": "a8d15129",
   "metadata": {},
   "source": [
    "# Exercise 2\n",
    "Redo the previous exercise using list comprehension."
   ]
  },
  {
   "cell_type": "code",
   "execution_count": 10,
   "id": "5432f84c",
   "metadata": {},
   "outputs": [
    {
     "data": {
      "text/plain": [
       "[1, 9, 25, 49, 81]"
      ]
     },
     "execution_count": 10,
     "metadata": {},
     "output_type": "execute_result"
    }
   ],
   "source": [
    "[number**2 for number in range(10) if number % 2 != 0]"
   ]
  },
  {
   "cell_type": "markdown",
   "id": "77d47f94",
   "metadata": {},
   "source": [
    "# Exercise 3\n",
    "Use the cell magic command %%timeit to time the previous solutions. Which of the two is faster?"
   ]
  },
  {
   "cell_type": "code",
   "execution_count": 18,
   "id": "2c08c3d1",
   "metadata": {},
   "outputs": [
    {
     "name": "stdout",
     "output_type": "stream",
     "text": [
      "801 ns ± 20.6 ns per loop (mean ± std. dev. of 7 runs, 1,000,000 loops each)\n"
     ]
    }
   ],
   "source": [
    "%%timeit\n",
    "for number in range(10):\n",
    "    if number % 2 == 0: continue\n",
    "    squared = number ** 2          "
   ]
  },
  {
   "cell_type": "code",
   "execution_count": 19,
   "id": "9582c03f",
   "metadata": {},
   "outputs": [
    {
     "name": "stdout",
     "output_type": "stream",
     "text": [
      "884 ns ± 18.3 ns per loop (mean ± std. dev. of 7 runs, 1,000,000 loops each)\n"
     ]
    }
   ],
   "source": [
    "%%timeit\n",
    "[number**2 for number in range(10) if number % 2 != 0]"
   ]
  },
  {
   "cell_type": "markdown",
   "id": "d951b2a0",
   "metadata": {},
   "source": [
    "Both codes have similar average execution time of around 800 nanoseconds. However, the first code from exercise 1 is faster, as it has a average execution time of 801 nanoseconds, compared to the second code from exercise 2, with an average execution time of 884 nanoseconds. "
   ]
  },
  {
   "cell_type": "markdown",
   "id": "86cfb447",
   "metadata": {},
   "source": [
    "# Exercise 4\n",
    "The initial quantity of a sample of a radioactive substance is 100 units, and it decays by 5% each year. Use a while loop to determine how long the sample will take to reduce to half its original amount."
   ]
  },
  {
   "cell_type": "code",
   "execution_count": 16,
   "id": "8c93cfe1",
   "metadata": {},
   "outputs": [
    {
     "name": "stdout",
     "output_type": "stream",
     "text": [
      "It takes 14 years for the sample to reduce to half its original amount.\n"
     ]
    }
   ],
   "source": [
    "sample = 100\n",
    "year = 0\n",
    "\n",
    "while sample > 50:              # Half of its original amount: 50 units\n",
    "    sample *= 0.95\n",
    "    year += 1\n",
    "print(f'It takes {year} years for the sample to reduce to half its original amount.')"
   ]
  },
  {
   "cell_type": "markdown",
   "id": "69bed705",
   "metadata": {},
   "source": [
    "# Exercise 5\n",
    "The following is data about atmospheric CO levels for several years in a (year, CO2_level) format. The units are ppm. Identify those years that showed an increase of CO of 3 ppm or more compared to the previous year.\n",
    "Please print out these years along with the corresponding change in concentration."
   ]
  },
  {
   "cell_type": "code",
   "execution_count": 24,
   "id": "1506a71e",
   "metadata": {},
   "outputs": [
    {
     "name": "stdout",
     "output_type": "stream",
     "text": [
      "2016 showed an increase of 3.410 ppm more than the previous year.\n"
     ]
    }
   ],
   "source": [
    "co2_data = [\n",
    "    (2000, 369.55), (2001, 371.14), (2002, 373.28), \n",
    "    (2003, 375.80), (2004, 377.52), (2005, 379.80), \n",
    "    (2006, 381.90), (2007, 383.79), (2008, 385.60), \n",
    "    (2009, 387.43), (2010, 389.90), (2011, 391.65), \n",
    "    (2012, 393.85), (2013, 396.52), (2014, 398.65),\n",
    "    (2015, 400.83), (2016, 404.24), (2017, 406.55), \n",
    "    (2018, 408.52), (2019, 411.44), (2020, 414.24)\n",
    "]\n",
    "\n",
    "for i in range(1,len(co2_data)):\n",
    "    year, level = co2_data[i]\n",
    "    prev_year, prev_level = co2_data[i-1]\n",
    "    change = level - prev_level\n",
    "    if change >= 3:\n",
    "        print(f'{year} showed an increase of {change:.3f} ppm more than the previous year.')\n"
   ]
  }
 ],
 "metadata": {
  "kernelspec": {
   "display_name": "base",
   "language": "python",
   "name": "python3"
  },
  "language_info": {
   "codemirror_mode": {
    "name": "ipython",
    "version": 3
   },
   "file_extension": ".py",
   "mimetype": "text/x-python",
   "name": "python",
   "nbconvert_exporter": "python",
   "pygments_lexer": "ipython3",
   "version": "3.13.5"
  },
  "toc": {
   "base_numbering": 1,
   "nav_menu": {},
   "number_sections": true,
   "sideBar": true,
   "skip_h1_title": false,
   "title_cell": "Table of Contents",
   "title_sidebar": "Contents",
   "toc_cell": false,
   "toc_position": {},
   "toc_section_display": true,
   "toc_window_display": false
  }
 },
 "nbformat": 4,
 "nbformat_minor": 5
}
