{
 "cells": [
  {
   "attachments": {},
   "cell_type": "markdown",
   "id": "123456",
   "metadata": {},
   "source": [
    "<div style=\"text-align:left;font-size:2em\"><span style=\"font-weight:bolder;font-size:1.25em\">SP2273 | Learning Portfolio</span><br><br><span style=\"font-weight:bold;color:darkred\">Loops (Need) Exercises</span></div>"
   ]
  },
  {
   "cell_type": "markdown",
   "id": "49394fb9",
   "metadata": {},
   "source": [
    "# Exercise 1\n",
    "You are provided with the following list of temperatures in Celsius. Write a quick Python snippet that converts each temperature to Fahrenheit and prints both temperatures as a Celsius, Fahrenheit pair."
   ]
  },
  {
   "cell_type": "code",
   "execution_count": 1,
   "id": "cfee7691",
   "metadata": {},
   "outputs": [],
   "source": [
    "temperatures_celsius = [\n",
    "    0, 5, 10, 15, 20, 25,\n",
    "    30, 35, 40, 45, 50\n",
    "]"
   ]
  },
  {
   "cell_type": "code",
   "execution_count": 5,
   "id": "3456d46e",
   "metadata": {},
   "outputs": [
    {
     "name": "stdout",
     "output_type": "stream",
     "text": [
      "When temperature in Celsius is 0 degrees, temperature in Farenheit is 32.0 degrees.\n",
      "When temperature in Celsius is 5 degrees, temperature in Farenheit is 41.0 degrees.\n",
      "When temperature in Celsius is 10 degrees, temperature in Farenheit is 50.0 degrees.\n",
      "When temperature in Celsius is 15 degrees, temperature in Farenheit is 59.0 degrees.\n",
      "When temperature in Celsius is 20 degrees, temperature in Farenheit is 68.0 degrees.\n",
      "When temperature in Celsius is 25 degrees, temperature in Farenheit is 77.0 degrees.\n",
      "When temperature in Celsius is 30 degrees, temperature in Farenheit is 86.0 degrees.\n",
      "When temperature in Celsius is 35 degrees, temperature in Farenheit is 95.0 degrees.\n",
      "When temperature in Celsius is 40 degrees, temperature in Farenheit is 104.0 degrees.\n",
      "When temperature in Celsius is 45 degrees, temperature in Farenheit is 113.0 degrees.\n",
      "When temperature in Celsius is 50 degrees, temperature in Farenheit is 122.0 degrees.\n"
     ]
    }
   ],
   "source": [
    "for celsius in temperatures_celsius:\n",
    "    farenheit = celsius * (9/5) + 32        # Based on Formula of Celsius\n",
    "    print(f'When temperature in Celsius is {celsius} degrees, temperature in Farenheit is {farenheit} degrees.')"
   ]
  },
  {
   "cell_type": "markdown",
   "id": "347358f9",
   "metadata": {},
   "source": [
    "# Exercise 2\n",
    "Write a Python snippet that prints a multiplication table (up to 5) for numbers 1 through 5 using nested for loops. "
   ]
  },
  {
   "cell_type": "code",
   "execution_count": 52,
   "id": "f10b3d5a",
   "metadata": {},
   "outputs": [
    {
     "name": "stdout",
     "output_type": "stream",
     "text": [
      "1:\t1\t2\t3\t4\t5\t\n",
      "\n",
      "2:\t2\t4\t6\t8\t10\t\n",
      "\n",
      "3:\t3\t6\t9\t12\t15\t\n",
      "\n",
      "4:\t4\t8\t12\t16\t20\t\n",
      "\n",
      "5:\t5\t10\t15\t20\t25\t\n",
      "\n"
     ]
    }
   ],
   "source": [
    "for row in [1,2,3,4,5]:\n",
    "    print(f'{row}:', end ='\\t')\n",
    "    for column in [1,2,3,4,5]:\n",
    "        multiple = row * column\n",
    "        print(f'{multiple}', end='\\t')\n",
    "    print('\\n')\n"
   ]
  },
  {
   "cell_type": "markdown",
   "id": "0c97a017",
   "metadata": {},
   "source": [
    "# Exercise 3\n",
    "Using a for loop, run this experiment 10 times and, for each iteration, print out the number of heads. (values less than 0.5 are tails and values greater than 0.5 are heads)"
   ]
  },
  {
   "cell_type": "code",
   "execution_count": 37,
   "id": "475a0ff6",
   "metadata": {},
   "outputs": [],
   "source": [
    "import numpy as np"
   ]
  },
  {
   "cell_type": "code",
   "execution_count": 55,
   "id": "a0a61ce3",
   "metadata": {},
   "outputs": [
    {
     "name": "stdout",
     "output_type": "stream",
     "text": [
      "Experiment 1: No. of Heads = 6\n",
      "Experiment 2: No. of Heads = 1\n",
      "Experiment 3: No. of Heads = 6\n",
      "Experiment 4: No. of Heads = 3\n",
      "Experiment 5: No. of Heads = 7\n",
      "Experiment 6: No. of Heads = 5\n",
      "Experiment 7: No. of Heads = 6\n",
      "Experiment 8: No. of Heads = 6\n",
      "Experiment 9: No. of Heads = 3\n",
      "Experiment 10: No. of Heads = 7\n"
     ]
    }
   ],
   "source": [
    "for i in range(1,11):\n",
    "    coins = np.random.rand(10)\n",
    "    heads = len(coins[coins > 0.5])         # Counting number of Heads by Masking the Array\n",
    "    print(f'Experiment {i}: No. of Heads = {heads}')"
   ]
  }
 ],
 "metadata": {
  "kernelspec": {
   "display_name": "base",
   "language": "python",
   "name": "python3"
  },
  "language_info": {
   "codemirror_mode": {
    "name": "ipython",
    "version": 3
   },
   "file_extension": ".py",
   "mimetype": "text/x-python",
   "name": "python",
   "nbconvert_exporter": "python",
   "pygments_lexer": "ipython3",
   "version": "3.13.5"
  },
  "toc": {
   "base_numbering": 1,
   "nav_menu": {},
   "number_sections": true,
   "sideBar": true,
   "skip_h1_title": false,
   "title_cell": "Table of Contents",
   "title_sidebar": "Contents",
   "toc_cell": false,
   "toc_position": {},
   "toc_section_display": true,
   "toc_window_display": false
  }
 },
 "nbformat": 4,
 "nbformat_minor": 5
}
