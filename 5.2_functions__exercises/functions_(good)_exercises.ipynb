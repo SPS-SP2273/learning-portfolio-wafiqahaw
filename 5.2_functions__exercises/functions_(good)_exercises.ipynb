{
 "cells": [
  {
   "attachments": {},
   "cell_type": "markdown",
   "id": "123456",
   "metadata": {},
   "source": [
    "<div style=\"text-align:left;font-size:2em\"><span style=\"font-weight:bolder;font-size:1.25em\">SP2273 | Learning Portfolio</span><br><br><span style=\"font-weight:bold;color:darkred\">Functions (Good) Exercises</span></div>"
   ]
  },
  {
   "cell_type": "markdown",
   "id": "784c18a2",
   "metadata": {},
   "source": [
    "# Exercise 1\n",
    "Develop a function named convert_celsius() to convert temperatures from Celsius to either Fahrenheit or Kelvin."
   ]
  },
  {
   "cell_type": "code",
   "execution_count": 140,
   "id": "fe064e33",
   "metadata": {},
   "outputs": [],
   "source": [
    "def convert_celsius(temperature_celsius,target_scale = 'Fahrenheit'):\n",
    "    if target_scale == 'Fahrenheit':\n",
    "        print(f'The temperature is {(temperature_celsius)*9/5 + 32:.1f} degrees Fahrenheit.')\n",
    "    elif target_scale == 'Kelvin':\n",
    "        print(f'The temperature is {(temperature_celsius) + 273.15:.2f} Kelvin.')\n",
    "    else:                 # Handles other inputs\n",
    "        print(\"Invalid Input.\")"
   ]
  },
  {
   "cell_type": "code",
   "execution_count": 141,
   "id": "c4ddedaf",
   "metadata": {},
   "outputs": [
    {
     "name": "stdout",
     "output_type": "stream",
     "text": [
      "The temperature is 298.15 Kelvin.\n",
      "The temperature is 77.0 degrees Fahrenheit.\n",
      "Invalid Input.\n"
     ]
    }
   ],
   "source": [
    "convert_celsius(25,'Kelvin')\n",
    "convert_celsius(25)\n",
    "convert_celsius(25,'Hahaha')"
   ]
  },
  {
   "cell_type": "markdown",
   "id": "fc07a601",
   "metadata": {},
   "source": [
    "# Exercise 2\n",
    "Develop a function called convert_fahrenheit() for converting temperatures from Fahrenheit to either Celsius or Kelvin."
   ]
  },
  {
   "cell_type": "code",
   "execution_count": 143,
   "id": "a6cf4ae2",
   "metadata": {},
   "outputs": [],
   "source": [
    "def convert_fahrenheit(temperature_fahrenheit,target_scale = 'Celsius'):\n",
    "    temperature_celsius = ((temperature_fahrenheit)-32)* 5/9\n",
    "    if target_scale == 'Celsius':\n",
    "        print(f'The temperature is {temperature_celsius:.1f} degrees Celsius.')\n",
    "    elif target_scale == 'Kelvin':\n",
    "        print(f'The temperature is {(temperature_celsius) + 273.15:.2f} Kelvin.')\n",
    "    else:                 # Handles other inputs\n",
    "        print(\"Invalid Input.\")"
   ]
  },
  {
   "cell_type": "code",
   "execution_count": 142,
   "id": "7f1ea5fc",
   "metadata": {},
   "outputs": [
    {
     "name": "stdout",
     "output_type": "stream",
     "text": [
      "The temperature is 30.6 degrees Celsius.\n",
      "The temperature is 303.71 Kelvin.\n"
     ]
    }
   ],
   "source": [
    "convert_fahrenheit(87)\n",
    "convert_fahrenheit(87,'Kelvin')"
   ]
  },
  {
   "cell_type": "markdown",
   "id": "b9ff7612",
   "metadata": {},
   "source": [
    "# Exercise 3\n"
   ]
  },
  {
   "cell_type": "markdown",
   "id": "5acba786",
   "metadata": {},
   "source": [
    "Implement a function named convert_temperature() to perform general temperature conversions."
   ]
  },
  {
   "cell_type": "code",
   "execution_count": 1,
   "id": "c894f1d9",
   "metadata": {},
   "outputs": [],
   "source": [
    "# Creating convert_kelvin function first\n",
    "def convert_kelvin(temperature_kelvin,target_scale):\n",
    "    temperature_celsius = (temperature_kelvin) - 273.15\n",
    "    if target_scale == 'Celsius':\n",
    "        print(f'The temperature is {temperature_celsius:.2f} degrees Celsius.')\n",
    "    elif target_scale == 'Fahrenheit':\n",
    "        print(f'The temperature is {(temperature_celsius)*9/5 + 32:.1f} degrees Fahrenheit.')\n",
    "    else:                 # Handles other inputs\n",
    "        print(\"Invalid Input.\")"
   ]
  },
  {
   "cell_type": "code",
   "execution_count": null,
   "id": "1651d2bf",
   "metadata": {},
   "outputs": [],
   "source": [
    "def convert_temperature(temperature,source_scale,target_scale):\n",
    "    if source_scale == 'Celsius':\n",
    "        convert_celsius(temperature,target_scale)\n",
    "    elif source_scale == 'Fahrenheit':\n",
    "        convert_fahrenheit(temperature,target_scale)\n",
    "    elif source_scale == 'Kelvin':\n",
    "        convert_kelvin(temperature,target_scale)"
   ]
  },
  {
   "cell_type": "code",
   "execution_count": 146,
   "id": "b5e80d0f",
   "metadata": {},
   "outputs": [
    {
     "name": "stdout",
     "output_type": "stream",
     "text": [
      "The temperature is 89.6 degrees Fahrenheit.\n",
      "The temperature is 272.04 Kelvin.\n",
      "The temperature is 41.85 degrees Celsius.\n"
     ]
    }
   ],
   "source": [
    "convert_temperature(32,'Celsius','Fahrenheit')\n",
    "convert_temperature(30,'Fahrenheit','Kelvin')\n",
    "convert_temperature(315,'Kelvin','Celsius')"
   ]
  }
 ],
 "metadata": {
  "kernelspec": {
   "display_name": "base",
   "language": "python",
   "name": "python3"
  },
  "language_info": {
   "codemirror_mode": {
    "name": "ipython",
    "version": 3
   },
   "file_extension": ".py",
   "mimetype": "text/x-python",
   "name": "python",
   "nbconvert_exporter": "python",
   "pygments_lexer": "ipython3",
   "version": "3.13.5"
  },
  "toc": {
   "base_numbering": 1,
   "nav_menu": {},
   "number_sections": true,
   "sideBar": true,
   "skip_h1_title": false,
   "title_cell": "Table of Contents",
   "title_sidebar": "Contents",
   "toc_cell": false,
   "toc_position": {},
   "toc_section_display": true,
   "toc_window_display": false
  }
 },
 "nbformat": 4,
 "nbformat_minor": 5
}
