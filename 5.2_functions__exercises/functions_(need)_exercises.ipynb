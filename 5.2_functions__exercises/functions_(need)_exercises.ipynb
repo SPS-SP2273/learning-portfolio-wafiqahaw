{
 "cells": [
  {
   "attachments": {},
   "cell_type": "markdown",
   "id": "123456",
   "metadata": {},
   "source": [
    "<div style=\"text-align:left;font-size:2em\"><span style=\"font-weight:bolder;font-size:1.25em\">SP2273 | Learning Portfolio</span><br><br><span style=\"font-weight:bold;color:darkred\">Functions (Need) Exercises</span></div>"
   ]
  },
  {
   "cell_type": "markdown",
   "id": "053de161",
   "metadata": {},
   "source": [
    "# Exercise 1\n",
    "The following code works as expected despite not having an else statement. Please use a Markdown cell to explain why?"
   ]
  },
  {
   "cell_type": "code",
   "execution_count": 1,
   "id": "661735d4",
   "metadata": {},
   "outputs": [],
   "source": [
    "def greeting(name):\n",
    "    if name == 'Batman':\n",
    "        return 'Hello Batman! So, nice to meet you!'\n",
    "    return f'Hello {name}!'"
   ]
  },
  {
   "cell_type": "markdown",
   "id": "b23143c8",
   "metadata": {},
   "source": [
    "The code works as it uses a function (greeting) which accepts a single argument (name)."
   ]
  },
  {
   "cell_type": "markdown",
   "id": "8205fe0f",
   "metadata": {},
   "source": [
    "# Exercise 2\n",
    "Write a Python function named calculate_bmi. Based on the calculated BMI, the function should return a string indicating the BMI category based on the following criteria:\n",
    "\n",
    "| Category | BMI Range |\n",
    "| :--- | :--- |\n",
    "| Underweight | BMI less than 18.5 |\n",
    "| Normal weight | BMI between 18.5 and 24.9 |\n",
    "| Overweight | BMI between 25 and 29.9 |\n",
    "| Obese | BMI 30 or more |"
   ]
  },
  {
   "cell_type": "code",
   "execution_count": null,
   "id": "c6a55353",
   "metadata": {},
   "outputs": [],
   "source": [
    "def calculate_bmi(weight, height):\n",
    "    "
   ]
  }
 ],
 "metadata": {
  "kernelspec": {
   "display_name": "base",
   "language": "python",
   "name": "python3"
  },
  "language_info": {
   "codemirror_mode": {
    "name": "ipython",
    "version": 3
   },
   "file_extension": ".py",
   "mimetype": "text/x-python",
   "name": "python",
   "nbconvert_exporter": "python",
   "pygments_lexer": "ipython3",
   "version": "3.13.5"
  },
  "toc": {
   "base_numbering": 1,
   "nav_menu": {},
   "number_sections": true,
   "sideBar": true,
   "skip_h1_title": false,
   "title_cell": "Table of Contents",
   "title_sidebar": "Contents",
   "toc_cell": false,
   "toc_position": {},
   "toc_section_display": true,
   "toc_window_display": false
  }
 },
 "nbformat": 4,
 "nbformat_minor": 5
}
