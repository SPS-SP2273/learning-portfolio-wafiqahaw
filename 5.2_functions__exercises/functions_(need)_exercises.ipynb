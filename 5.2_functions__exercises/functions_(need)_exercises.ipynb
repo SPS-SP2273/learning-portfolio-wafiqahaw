{
 "cells": [
  {
   "attachments": {},
   "cell_type": "markdown",
   "id": "123456",
   "metadata": {},
   "source": [
    "<div style=\"text-align:left;font-size:2em\"><span style=\"font-weight:bolder;font-size:1.25em\">SP2273 | Learning Portfolio</span><br><br><span style=\"font-weight:bold;color:darkred\">Functions (Need) Exercises</span></div>"
   ]
  },
  {
   "cell_type": "markdown",
   "id": "053de161",
   "metadata": {},
   "source": [
    "# Exercise 1\n",
    "The following code works as expected despite not having an else statement. Please use a Markdown cell to explain why?"
   ]
  },
  {
   "cell_type": "code",
   "execution_count": 1,
   "id": "661735d4",
   "metadata": {},
   "outputs": [],
   "source": [
    "def greeting(name):\n",
    "    if name == 'Batman':\n",
    "        return 'Hello Batman! So, nice to meet you!'\n",
    "    return f'Hello {name}!'"
   ]
  },
  {
   "cell_type": "markdown",
   "id": "b23143c8",
   "metadata": {},
   "source": [
    "The code does not require an else statement because the if branch ends with a return. When the return statement is executed, the function immediately exits and no further code in the function is executed. In the code, if the condition is true, 'Hello Batman! So nice to meet you!' is returned and the rest of the code is not executed. If the condition is false, this line is skipped, but the next line is also a return statement. This means that the function will always return a value, hence an else statement is not needed."
   ]
  },
  {
   "cell_type": "markdown",
   "id": "8205fe0f",
   "metadata": {},
   "source": [
    "# Exercise 2\n",
    "Write a Python function named calculate_bmi. Based on the calculated BMI, the function should return a string indicating the BMI category based on the following criteria:\n",
    "\n",
    "| Category | BMI Range |\n",
    "| :--- | :--- |\n",
    "| Underweight | BMI less than 18.5 |\n",
    "| Normal weight | BMI between 18.5 and 24.9 |\n",
    "| Overweight | BMI between 25 and 29.9 |\n",
    "| Obese | BMI 30 or more |"
   ]
  },
  {
   "cell_type": "code",
   "execution_count": 46,
   "id": "5fae6d0f",
   "metadata": {},
   "outputs": [],
   "source": [
    "def calculate_bmi(weight,height):\n",
    "    bmi = weight / (height ** 2)\n",
    "    if bmi < 18.5:\n",
    "        Category = 'underweight'\n",
    "    elif 18.5 <= bmi <= 24.9:\n",
    "        Category = 'normal weight'\n",
    "    elif 25 <= bmi <= 29.9:\n",
    "        Category = 'overweight'\n",
    "    else:\n",
    "        Category = 'obese'\n",
    "    print(f'Your BMI category is {Category}')"
   ]
  },
  {
   "cell_type": "code",
   "execution_count": 47,
   "id": "5b86113f",
   "metadata": {},
   "outputs": [
    {
     "name": "stdout",
     "output_type": "stream",
     "text": [
      "Your BMI category is normal weight\n"
     ]
    }
   ],
   "source": [
    "calculate_bmi(55,1.59)     "
   ]
  },
  {
   "cell_type": "markdown",
   "id": "2cbfaecf",
   "metadata": {},
   "source": [
    "# Exercise 3\n",
    "Write a function that accepts an integer n and returns its factorial. Ensure that your function gracefully handles negative numbers."
   ]
  },
  {
   "cell_type": "code",
   "execution_count": 17,
   "id": "b381a3b9",
   "metadata": {},
   "outputs": [],
   "source": [
    "import math\n",
    "\n",
    "def factorial(n):\n",
    "    if n >= 0:\n",
    "        return f'The factorial of {n} is {math.factorial(n)}'\n",
    "    else:\n",
    "        return 'Invalid Input. Please provide a positive integer.'"
   ]
  },
  {
   "cell_type": "code",
   "execution_count": 18,
   "id": "60a08195",
   "metadata": {},
   "outputs": [
    {
     "data": {
      "text/plain": [
       "'The factorial of 7 is 5040'"
      ]
     },
     "execution_count": 18,
     "metadata": {},
     "output_type": "execute_result"
    }
   ],
   "source": [
    "factorial(7)"
   ]
  },
  {
   "cell_type": "code",
   "execution_count": 19,
   "id": "b2d3a7e8",
   "metadata": {},
   "outputs": [
    {
     "data": {
      "text/plain": [
       "'Invalid Input. Please provide a positive integer.'"
      ]
     },
     "execution_count": 19,
     "metadata": {},
     "output_type": "execute_result"
    }
   ],
   "source": [
    "factorial(-5)"
   ]
  }
 ],
 "metadata": {
  "kernelspec": {
   "display_name": "base",
   "language": "python",
   "name": "python3"
  },
  "language_info": {
   "codemirror_mode": {
    "name": "ipython",
    "version": 3
   },
   "file_extension": ".py",
   "mimetype": "text/x-python",
   "name": "python",
   "nbconvert_exporter": "python",
   "pygments_lexer": "ipython3",
   "version": "3.13.5"
  },
  "toc": {
   "base_numbering": 1,
   "nav_menu": {},
   "number_sections": true,
   "sideBar": true,
   "skip_h1_title": false,
   "title_cell": "Table of Contents",
   "title_sidebar": "Contents",
   "toc_cell": false,
   "toc_position": {},
   "toc_section_display": true,
   "toc_window_display": false
  }
 },
 "nbformat": 4,
 "nbformat_minor": 5
}
