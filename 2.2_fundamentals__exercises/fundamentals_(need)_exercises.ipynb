{
 "cells": [
  {
   "attachments": {},
   "cell_type": "markdown",
   "id": "123456",
   "metadata": {},
   "source": [
    "<div style=\"text-align:left;font-size:2em\"><span style=\"font-weight:bolder;font-size:1.25em\">SP2273 | Learning Portfolio</span><br><br><span style=\"font-weight:bold;color:darkred\">Fundamentals (Need) Exercises</span></div>"
   ]
  },
  {
   "cell_type": "markdown",
   "id": "cf98e355",
   "metadata": {},
   "source": [
    "# Exercise 1"
   ]
  },
  {
   "cell_type": "code",
   "execution_count": null,
   "id": "0704391c",
   "metadata": {},
   "outputs": [],
   "source": []
  },
  {
   "cell_type": "markdown",
   "id": "635d546a",
   "metadata": {},
   "source": [
    "# Exercise 2"
   ]
  },
  {
   "cell_type": "code",
   "execution_count": null,
   "id": "8c8b8c4e",
   "metadata": {},
   "outputs": [],
   "source": [
    "import math"
   ]
  },
  {
   "cell_type": "code",
   "execution_count": 24,
   "id": "ac9aa6d7",
   "metadata": {},
   "outputs": [
    {
     "name": "stdout",
     "output_type": "stream",
     "text": [
      "3 4 5.0\n"
     ]
    }
   ],
   "source": [
    "x, y = 3, 4\n",
    "z = math.sqrt(x**2 + y**2)\n",
    "print(x, y, z)"
   ]
  },
  {
   "cell_type": "markdown",
   "id": "1047041b",
   "metadata": {},
   "source": [
    "Changes made to above code:\n",
    "1. Replaced \"Print\" to \"print\" (lowercase)\n",
    "2. Imported math package\n",
    "3. Added \"math\" to \"sqrt\" (i.e, replaced \"sqrt\" with \"math.sqrt\")\n",
    "4. Removed unnecessary spaces\n",
    "5. Added \"*\" to x."
   ]
  },
  {
   "cell_type": "markdown",
   "id": "0d28954c",
   "metadata": {},
   "source": [
    "# Exercise 3"
   ]
  },
  {
   "cell_type": "markdown",
   "id": "a17e9d61",
   "metadata": {},
   "source": []
  },
  {
   "cell_type": "markdown",
   "id": "f30492f3",
   "metadata": {},
   "source": [
    "# Exercise 4"
   ]
  },
  {
   "cell_type": "code",
   "execution_count": null,
   "id": "268a53b7",
   "metadata": {},
   "outputs": [
    {
     "data": {
      "text/plain": [
       "2.5"
      ]
     },
     "execution_count": 28,
     "metadata": {},
     "output_type": "execute_result"
    }
   ],
   "source": [
    "5/2           # Divides the first number (5) by the second number (2)"
   ]
  },
  {
   "cell_type": "code",
   "execution_count": null,
   "id": "59ac4168",
   "metadata": {},
   "outputs": [
    {
     "data": {
      "text/plain": [
       "2"
      ]
     },
     "execution_count": 30,
     "metadata": {},
     "output_type": "execute_result"
    }
   ],
   "source": [
    "5//2          # Divides then rounds down to the nearest whole number."
   ]
  },
  {
   "cell_type": "code",
   "execution_count": 3,
   "id": "e7c115de",
   "metadata": {},
   "outputs": [
    {
     "data": {
      "text/plain": [
       "1"
      ]
     },
     "execution_count": 3,
     "metadata": {},
     "output_type": "execute_result"
    }
   ],
   "source": [
    "5%2           # Divides then provides the remainder."
   ]
  }
 ],
 "metadata": {
  "kernelspec": {
   "display_name": "base",
   "language": "python",
   "name": "python3"
  },
  "language_info": {
   "codemirror_mode": {
    "name": "ipython",
    "version": 3
   },
   "file_extension": ".py",
   "mimetype": "text/x-python",
   "name": "python",
   "nbconvert_exporter": "python",
   "pygments_lexer": "ipython3",
   "version": "3.13.5"
  },
  "toc": {
   "base_numbering": 1,
   "nav_menu": {},
   "number_sections": true,
   "sideBar": true,
   "skip_h1_title": false,
   "title_cell": "Table of Contents",
   "title_sidebar": "Contents",
   "toc_cell": false,
   "toc_position": {},
   "toc_section_display": true,
   "toc_window_display": false
  }
 },
 "nbformat": 4,
 "nbformat_minor": 5
}
