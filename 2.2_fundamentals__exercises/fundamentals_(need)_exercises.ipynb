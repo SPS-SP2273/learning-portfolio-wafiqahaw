{
 "cells": [
  {
   "attachments": {},
   "cell_type": "markdown",
   "id": "123456",
   "metadata": {},
   "source": [
    "<div style=\"text-align:left;font-size:2em\"><span style=\"font-weight:bolder;font-size:1.25em\">SP2273 | Learning Portfolio</span><br><br><span style=\"font-weight:bold;color:darkred\">Fundamentals (Need) Exercises</span></div>"
   ]
  },
  {
   "cell_type": "markdown",
   "id": "cf98e355",
   "metadata": {},
   "source": [
    "# Exercise 1"
   ]
  },
  {
   "cell_type": "markdown",
   "id": "375cf4c8",
   "metadata": {},
   "source": [
    "**Purely from memory**, list as many of the basic Python features I mentioned in my notes as you remember.\n",
    "Use a Markdown cell for this list.\n",
    "Now, visit the notes and complete the list with the ones you missed.\n",
    "Indicate those you missed by putting them in italics."
   ]
  },
  {
   "cell_type": "markdown",
   "id": "0704391c",
   "metadata": {},
   "source": [
    "Answer:\n",
    "1. \"print()\" function to print or output the message or words onto the screen.\n",
    "2. \"import math\" and \"import numpy\" to import more math and numpy functions as an extension to the basic python function.\n",
    "3. \"import _ as _\" (e.g. \"import numpy as np\") to provide a shorter name to use in code instead of the long name (math, numpy, etc.).\n",
    "4. \"=\" to assign a value *(to set something equal)*\n",
    "5. \"==\" to ask a true/false question *(to check if something is equal)*\n",
    "6. \"#\" to input comments that will not affect the code and for us to remember what our code does.\n",
    "7. *\"if..else\" to ask a question (i.e. test a condition) and instructs what to do if the answer is true or false.*\n",
    "8. *'()' to calculate math equations*\n",
    "9. *'[]' to input lists of data*\n",
    "10. *'{}' to store data in a 'thing' called dictionary.*"
   ]
  },
  {
   "cell_type": "markdown",
   "id": "635d546a",
   "metadata": {},
   "source": [
    "# Exercise 2"
   ]
  },
  {
   "cell_type": "markdown",
   "id": "45dbc348",
   "metadata": {},
   "source": [
    "Fix (debug) the following code to create a Pythagorean triple 3, 4, 5"
   ]
  },
  {
   "cell_type": "code",
   "execution_count": null,
   "id": "8c8b8c4e",
   "metadata": {},
   "outputs": [],
   "source": [
    "import math"
   ]
  },
  {
   "cell_type": "code",
   "execution_count": 24,
   "id": "ac9aa6d7",
   "metadata": {},
   "outputs": [
    {
     "name": "stdout",
     "output_type": "stream",
     "text": [
      "3 4 5.0\n"
     ]
    }
   ],
   "source": [
    "x, y = 3, 4\n",
    "z = math.sqrt(x**2 + y**2)\n",
    "print(x, y, z)"
   ]
  },
  {
   "cell_type": "markdown",
   "id": "1047041b",
   "metadata": {},
   "source": [
    "Changes made to above code:\n",
    "1. Replaced \"Print\" to \"print\" (lowercase)\n",
    "2. Imported math package\n",
    "3. Added \"math\" to \"sqrt\" (i.e, replaced \"sqrt\" with \"math.sqrt\")\n",
    "4. Removed unnecessary spaces\n",
    "5. Added \"*\" to x."
   ]
  },
  {
   "cell_type": "markdown",
   "id": "0d28954c",
   "metadata": {},
   "source": [
    "# Exercise 3"
   ]
  },
  {
   "cell_type": "markdown",
   "id": "a8f5fefc",
   "metadata": {},
   "source": [
    "Using your own words, write a **single** sentence to describe what each of the following means or the role they serve in Python."
   ]
  },
  {
   "cell_type": "markdown",
   "id": "3a748b3b",
   "metadata": {},
   "source": [
    " No. | Term | Description \n",
    " :---: | :---: | :---: \n",
    " 1 | Function | A block of code that executes a specific task and can be reused.\n",
    " 2 | Arguments | The values assigned to a function to be used within it.\n",
    " 3 | Comments | Notes beginning with '#' that are ignored when the cell is run.\n",
    " 4 | Indentations | Spaces at the start of line used to make them easier to read.\n",
    " 5 | Packages | Folder of tools and functions that can be imported for an extenstion to the basic python functions.\n",
    " 6 | . | The dot, which indicates ownership, and to access methods or attributes of an object.\n",
    " 7 | : | Used to designate a block of code and define what to do when conditions in the code are met.\n",
    " 8 | [] | Used to store multiple items as a list. \n",
    " 9 | [[],[]] | Used to contain multiple lists within a list.\n",
    " 10 | {} | Used to store data in the form of a dictionary."
   ]
  },
  {
   "cell_type": "markdown",
   "id": "f30492f3",
   "metadata": {},
   "source": [
    "# Exercise 4"
   ]
  },
  {
   "cell_type": "markdown",
   "id": "3377c0ed",
   "metadata": {},
   "source": [
    "Programming languages usually offer multiple options for dividing one number by another. Shown below are three such options. Either by observation (i.e., trial and error), Googling or discussing with a friend, figure out what each one does.\n",
    "\n",
    "I recommended the trial and error approach first so that you get a feel for how to use Python.\n",
    "Indicate your answer by writing a comment."
   ]
  },
  {
   "cell_type": "code",
   "execution_count": 2,
   "id": "268a53b7",
   "metadata": {},
   "outputs": [
    {
     "data": {
      "text/plain": [
       "2.5"
      ]
     },
     "execution_count": 2,
     "metadata": {},
     "output_type": "execute_result"
    }
   ],
   "source": [
    "5/2          # Divides the first number (5) by the second number (2)"
   ]
  },
  {
   "cell_type": "code",
   "execution_count": 2,
   "id": "59ac4168",
   "metadata": {},
   "outputs": [
    {
     "data": {
      "text/plain": [
       "2"
      ]
     },
     "execution_count": 2,
     "metadata": {},
     "output_type": "execute_result"
    }
   ],
   "source": [
    "5//2          # Divides then rounds down to the nearest whole number."
   ]
  },
  {
   "cell_type": "code",
   "execution_count": 3,
   "id": "e7c115de",
   "metadata": {},
   "outputs": [
    {
     "data": {
      "text/plain": [
       "1"
      ]
     },
     "execution_count": 3,
     "metadata": {},
     "output_type": "execute_result"
    }
   ],
   "source": [
    "5%2           # Divides then provides the remainder."
   ]
  }
 ],
 "metadata": {
  "kernelspec": {
   "display_name": "base",
   "language": "python",
   "name": "python3"
  },
  "language_info": {
   "codemirror_mode": {
    "name": "ipython",
    "version": 3
   },
   "file_extension": ".py",
   "mimetype": "text/x-python",
   "name": "python",
   "nbconvert_exporter": "python",
   "pygments_lexer": "ipython3",
   "version": "3.13.5"
  },
  "toc": {
   "base_numbering": 1,
   "nav_menu": {},
   "number_sections": true,
   "sideBar": true,
   "skip_h1_title": false,
   "title_cell": "Table of Contents",
   "title_sidebar": "Contents",
   "toc_cell": false,
   "toc_position": {},
   "toc_section_display": true,
   "toc_window_display": false
  }
 },
 "nbformat": 4,
 "nbformat_minor": 5
}
