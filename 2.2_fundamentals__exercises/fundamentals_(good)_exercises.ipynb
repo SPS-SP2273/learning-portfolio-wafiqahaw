{
 "cells": [
  {
   "attachments": {},
   "cell_type": "markdown",
   "id": "123456",
   "metadata": {},
   "source": [
    "<div style=\"text-align:left;font-size:2em\"><span style=\"font-weight:bolder;font-size:1.25em\">SP2273 | Learning Portfolio</span><br><br><span style=\"font-weight:bold;color:darkred\">Fundamentals (Good) Exercises</span></div>"
   ]
  },
  {
   "cell_type": "markdown",
   "id": "7186bd72",
   "metadata": {},
   "source": [
    "# Exercise 1"
   ]
  },
  {
   "cell_type": "markdown",
   "id": "9e35c9ab",
   "metadata": {},
   "source": [
    "#### Example 1:"
   ]
  },
  {
   "cell_type": "markdown",
   "id": "65e672fa",
   "metadata": {},
   "source": [
    "Python allows you to solicit information from the user.\n",
    "One way to do this is using the input() function. Here is an example of how to use it:"
   ]
  },
  {
   "cell_type": "code",
   "execution_count": 1,
   "id": "40f10280",
   "metadata": {},
   "outputs": [
    {
     "name": "stdout",
     "output_type": "stream",
     "text": [
      "You entered 2\n"
     ]
    }
   ],
   "source": [
    "user_input = input('Please provide me a number?')\n",
    "print('You entered', user_input)"
   ]
  },
  {
   "cell_type": "markdown",
   "id": "2399e8bc",
   "metadata": {},
   "source": [
    "#### Task 1:"
   ]
  },
  {
   "cell_type": "markdown",
   "id": "35f238a2",
   "metadata": {},
   "source": [
    "Ask for the name of the user and then print out the greeting:\n",
    "\n",
    "“How you doin NAME!”"
   ]
  },
  {
   "cell_type": "code",
   "execution_count": 2,
   "id": "3ee09d36",
   "metadata": {},
   "outputs": [
    {
     "name": "stdout",
     "output_type": "stream",
     "text": [
      "How you doin BATMAN !\n",
      "How you doin BATMAN !\n"
     ]
    }
   ],
   "source": [
    "name_input = input('What is your name?')\n",
    "print('How you doin',name_input.upper(),'!')        # Without f-strings\n",
    "print(f'How you doin {name_input.upper()} !')        # With f-strings"
   ]
  },
  {
   "cell_type": "markdown",
   "id": "2ed54b19",
   "metadata": {},
   "source": [
    "#### Task 2:"
   ]
  },
  {
   "cell_type": "markdown",
   "id": "8a0949bb",
   "metadata": {},
   "source": [
    "Ask for the name of the user, then ask for the age of the user and print out the introduction:\n",
    "\n",
    "“My name is NAME and I am AGE years old.”"
   ]
  },
  {
   "cell_type": "code",
   "execution_count": 6,
   "id": "28d3f5a9",
   "metadata": {},
   "outputs": [
    {
     "name": "stdout",
     "output_type": "stream",
     "text": [
      "My name is BATMAN and I am FORTY years old.\n",
      "My name is BATMAN and I am FORTY years old.\n"
     ]
    }
   ],
   "source": [
    "name_input = input('What is your name?')\n",
    "age_input = input('How old are you?')\n",
    "print('My name is',name_input.upper(),'and I am',age_input.upper(),'years old.')        # Without f-strings\n",
    "print(f'My name is {name_input.upper()} and I am {age_input.upper()} years old.')       # With f-strings"
   ]
  },
  {
   "cell_type": "markdown",
   "id": "439c8743",
   "metadata": {},
   "source": [
    "#### Task 3:"
   ]
  },
  {
   "cell_type": "markdown",
   "id": "2fdca5ee",
   "metadata": {},
   "source": [
    "You are given the value of $\\pi$ as 3.141592653589793.\n",
    "\n",
    "Define the variable pi with this value and then use it to produce the following using f-strings.\n",
    "\n",
    "The value of pi to 2 decimal places is: 3.14\n",
    "\n",
    "The value of pi to 3 decimal places is: 3.142\n",
    "\n",
    "The value of pi to 4 decimal places is: 3.1416"
   ]
  },
  {
   "cell_type": "code",
   "execution_count": 23,
   "id": "dc419290",
   "metadata": {},
   "outputs": [],
   "source": [
    "import numpy as np"
   ]
  },
  {
   "cell_type": "code",
   "execution_count": 41,
   "id": "460afb10",
   "metadata": {},
   "outputs": [
    {
     "name": "stdout",
     "output_type": "stream",
     "text": [
      "the value of pi to 2 decimal places is: 3.14\n",
      "\n",
      "the value of pi to 3 decimal places is: 3.142\n",
      "\n",
      "the value of pi to 4 decimal places is: 3.1416\n"
     ]
    }
   ],
   "source": [
    "pi = 3.141592653589793\n",
    "\n",
    "print(f'the value of pi to 2 decimal places is: {np.pi:.2f}\\n')\n",
    "\n",
    "print(f'the value of pi to 3 decimal places is: {np.pi:.3f}\\n')\n",
    "\n",
    "print(f'the value of pi to 4 decimal places is: {np.pi:.4f}')\n"
   ]
  },
  {
   "cell_type": "markdown",
   "id": "5aab76c1",
   "metadata": {},
   "source": [
    "#### Task 4"
   ]
  },
  {
   "cell_type": "markdown",
   "id": "288fe83d",
   "metadata": {},
   "source": [
    "Fruit | Price\n",
    ":--: | :--:\n",
    "Apple | $0.99\n",
    "Banana | $0.59\n",
    "Orange | $1.29"
   ]
  },
  {
   "cell_type": "markdown",
   "id": "bb307c57",
   "metadata": {},
   "source": [
    "Use the data in the table to produce the printout."
   ]
  },
  {
   "cell_type": "code",
   "execution_count": 35,
   "id": "728bc1a5",
   "metadata": {},
   "outputs": [
    {
     "name": "stdout",
     "output_type": "stream",
     "text": [
      "Apple      $ 0.99\n",
      "Banana     $ 0.59\n",
      "Orange     $ 1.29\n"
     ]
    }
   ],
   "source": [
    "print(f'{\"Apple\":<10} {\"$ 0.99\":>5}')\n",
    "print(f'{\"Banana\":<10} {\"$ 0.59\":>5}')\n",
    "print(f'{\"Orange\":<10} {\"$ 1.29\":>5}')        "
   ]
  },
  {
   "cell_type": "markdown",
   "id": "43d16691",
   "metadata": {},
   "source": [
    "# Exercise 2"
   ]
  },
  {
   "cell_type": "markdown",
   "id": "d17d020f",
   "metadata": {},
   "source": [
    " Write a Python program that takes a numerical grade (0-100) as input and outputs the corresponding letter grade based on the following criteria:\n",
    "\n",
    " Grade | Score Range\n",
    " :--: | :--:\n",
    "A | 70 - 100\n",
    "B | 50 - 69\n",
    "C | 35 - 49\n",
    "Fail | 0 - 34"
   ]
  },
  {
   "cell_type": "code",
   "execution_count": 27,
   "id": "5fffd85a",
   "metadata": {},
   "outputs": [
    {
     "name": "stdout",
     "output_type": "stream",
     "text": [
      "Student's Score: 55\n",
      "Student's Grade: B\n"
     ]
    }
   ],
   "source": [
    "try: \n",
    "    score_input = input(\"Enter the student's score\")\n",
    "    score = int(score_input)\n",
    "    print(f\"Student's Score: {score}\")\n",
    "\n",
    "    if not (0 <= score <= 100):\n",
    "        print(\"Error: Score must be between 0 to 100.\")\n",
    "    else:\n",
    "        if 70 <= score <= 100:\n",
    "            letter_grade = 'A'\n",
    "        elif 50 <= score <= 69:\n",
    "            letter_grade = 'B'\n",
    "        elif 35 <= score <= 49:\n",
    "            letter_grade = 'C'\n",
    "        else:\n",
    "            letter_grade = 'Fail'\n",
    "        print(f\"Student's Grade: {letter_grade}\")\n",
    "\n",
    "except ValueError:              # For non-numerical inputs\n",
    "    print(\"Error: Please enter a valid number (0-100).\")\n"
   ]
  },
  {
   "cell_type": "markdown",
   "id": "a64adefd",
   "metadata": {},
   "source": [
    "**Notes Below (Testing different Inputs)**"
   ]
  },
  {
   "cell_type": "code",
   "execution_count": 26,
   "id": "c1be8ef0",
   "metadata": {},
   "outputs": [
    {
     "name": "stdout",
     "output_type": "stream",
     "text": [
      "Student's Score: 75\n",
      "Student's Grade: A\n"
     ]
    }
   ],
   "source": [
    "try: \n",
    "    score_input = input(\"Enter the student's score\")\n",
    "    score = int(score_input)\n",
    "    print(f\"Student's Score: {score}\")\n",
    "\n",
    "    if not (0 <= score <= 100):\n",
    "        print(\"Error: Score must be between 0 to 100.\")\n",
    "    else:\n",
    "        if 70 <= score <= 100:\n",
    "            letter_grade = 'A'\n",
    "        elif 50 <= score <= 69:\n",
    "            letter_grade = 'B'\n",
    "        elif 35 <= score <= 49:\n",
    "            letter_grade = 'C'\n",
    "        else:\n",
    "            letter_grade = 'Fail'\n",
    "        print(f\"Student's Grade: {letter_grade}\")\n",
    "\n",
    "except ValueError:\n",
    "    print(\"Error: Please enter a valid number (0-100).\")"
   ]
  },
  {
   "cell_type": "code",
   "execution_count": 4,
   "id": "779ad642",
   "metadata": {},
   "outputs": [
    {
     "name": "stdout",
     "output_type": "stream",
     "text": [
      "Student's Score: 158\n",
      "Error: Score must be between 0 to 100.\n"
     ]
    }
   ],
   "source": [
    "try: \n",
    "    score_input = input(\"Enter the student's score\")\n",
    "    score = int(score_input)\n",
    "    print(f\"Student's Score: {score}\")\n",
    "\n",
    "    if not (0 <= score <= 100):\n",
    "        print(\"Error: Score must be between 0 to 100.\")\n",
    "    else:\n",
    "        if 70 <= score <= 100:\n",
    "            letter_grade = 'A'\n",
    "        elif 50 <= score <= 69:\n",
    "            letter_grade = 'B'\n",
    "        elif 35 <= score <= 49:\n",
    "            letter_grade = 'C'\n",
    "        else:\n",
    "            letter_grade = 'Fail'\n",
    "        print(f\"Student's Grade: {letter_grade}\")\n",
    "\n",
    "except ValueError:\n",
    "    print(\"Error: Please enter a valid number (0-100).\")"
   ]
  },
  {
   "cell_type": "code",
   "execution_count": 5,
   "id": "82e4a8a4",
   "metadata": {},
   "outputs": [
    {
     "name": "stdout",
     "output_type": "stream",
     "text": [
      "Error: Please enter a valid number (0-100).\n"
     ]
    }
   ],
   "source": [
    "try: \n",
    "    score_input = input(\"Enter the student's score\")\n",
    "    score = int(score_input)\n",
    "    print(f\"Student's Score: {score}\")\n",
    "\n",
    "    if not (0 <= score <= 100):\n",
    "        print(\"Error: Score must be between 0 to 100.\")\n",
    "    else:\n",
    "        if 70 <= score <= 100:\n",
    "            letter_grade = 'A'\n",
    "        elif 50 <= score <= 69:\n",
    "            letter_grade = 'B'\n",
    "        elif 35 <= score <= 49:\n",
    "            letter_grade = 'C'\n",
    "        else:\n",
    "            letter_grade = 'Fail'\n",
    "        print(f\"Student's Grade: {letter_grade}\")\n",
    "\n",
    "except ValueError:\n",
    "    print(\"Error: Please enter a valid number (0-100).\")"
   ]
  },
  {
   "cell_type": "markdown",
   "id": "b3bcb853",
   "metadata": {},
   "source": [
    "# Exercise 3"
   ]
  },
  {
   "cell_type": "markdown",
   "id": "192539e2",
   "metadata": {},
   "source": [
    "The code below shows a Python function that calculates the factorial of a given number. However, there are three errors. Your task is to identify and fix the errors, complete the code, and ensure it runs correctly."
   ]
  },
  {
   "cell_type": "code",
   "execution_count": 63,
   "id": "2ab26c14",
   "metadata": {},
   "outputs": [
    {
     "name": "stdout",
     "output_type": "stream",
     "text": [
      "120\n",
      "Invalid input\n"
     ]
    }
   ],
   "source": [
    "def factorial(n):\n",
    "    if n < 0:\n",
    "        return \"Invalid input\"\n",
    "    elif n == 0:\n",
    "        return 1\n",
    "    else:\n",
    "        result = 1\n",
    "        for number in range(1, n+1):\n",
    "            result *= number\n",
    "        return result\n",
    "\n",
    "\n",
    "print(factorial(5))   # Testing, expected output: 120\n",
    "print(factorial(-1))  # Testing, expected output: Invalid input"
   ]
  },
  {
   "cell_type": "markdown",
   "id": "88640759",
   "metadata": {},
   "source": [
    "#### 3 Errors Found Above:\n",
    "1. '>' symbol was used in line 2 (if n > 0:). This causes an output of 'Invalid input' for all positive values of n. However, factorial is invalid for negative numbers, not positive. Hence, the correct symbol should be '<'.\n",
    "2. '!=' symbol was used in line 4 (elif n != 0:). This causes all values of n, except 0, to return 1. Hence, the correct symbol should be '=='\n",
    "3. '+=' symbol was used in line 9 (result += number). This adds the numbers instead of multiplying. Since we are finding the factorial, the numbers must be multiplied. Hence, the correct symbol should be '*='."
   ]
  }
 ],
 "metadata": {
  "kernelspec": {
   "display_name": "base",
   "language": "python",
   "name": "python3"
  },
  "language_info": {
   "codemirror_mode": {
    "name": "ipython",
    "version": 3
   },
   "file_extension": ".py",
   "mimetype": "text/x-python",
   "name": "python",
   "nbconvert_exporter": "python",
   "pygments_lexer": "ipython3",
   "version": "3.13.5"
  },
  "toc": {
   "base_numbering": 1,
   "nav_menu": {},
   "number_sections": true,
   "sideBar": true,
   "skip_h1_title": false,
   "title_cell": "Table of Contents",
   "title_sidebar": "Contents",
   "toc_cell": false,
   "toc_position": {},
   "toc_section_display": true,
   "toc_window_display": false
  }
 },
 "nbformat": 4,
 "nbformat_minor": 5
}
